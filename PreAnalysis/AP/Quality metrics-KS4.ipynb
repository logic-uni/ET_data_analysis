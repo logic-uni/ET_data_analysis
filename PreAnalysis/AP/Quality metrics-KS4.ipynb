{
 "cells": [
  {
   "cell_type": "code",
   "execution_count": 1,
   "metadata": {
    "ExecuteTime": {
     "end_time": "2025-03-28T21:42:12.116158Z",
     "start_time": "2025-03-28T21:42:11.701252Z"
    },
    "collapsed": false
   },
   "outputs": [],
   "source": [
    "%reset -f"
   ]
  },
  {
   "cell_type": "markdown",
   "metadata": {
    "collapsed": false
   },
   "source": []
  },
  {
   "cell_type": "code",
   "execution_count": 2,
   "metadata": {
    "ExecuteTime": {
     "end_time": "2025-03-28T21:42:12.132104Z",
     "start_time": "2025-03-28T21:42:12.117155Z"
    },
    "collapsed": false
   },
   "outputs": [],
   "source": [
    "import spikeinterface.full as si\n",
    "import spikeinterface as s\n",
    "import spikeinterface.qualitymetrics as sqm\n",
    "from spikeinterface.postprocessing import compute_correlograms\n",
    "import matplotlib.pyplot as plt\n",
    "from pathlib import Path\n",
    "from tools import *\n",
    "import pandas as pd\n",
    "import os\n",
    "import sys\n",
    "import numpy as np\n",
    "import scipy.stats\n",
    "import spikeinterface.core as sc\n",
    "import spikeinterface.extractors as se\n",
    "from spikeinterface.postprocessing import compute_principal_components\n",
    "from spikeinterface.qualitymetrics import (\n",
    "    compute_snrs,\n",
    "    compute_firing_rates,\n",
    "    compute_isi_violations,\n",
    "    calculate_pc_metrics,\n",
    "    compute_quality_metrics,\n",
    ")"
   ]
  },
  {
   "cell_type": "markdown",
   "metadata": {
    "collapsed": false
   },
   "source": [
    "## Load recording and sorting data"
   ]
  },
  {
   "cell_type": "code",
   "execution_count": 3,
   "metadata": {
    "ExecuteTime": {
     "end_time": "2025-03-28T21:42:12.192766Z",
     "start_time": "2025-03-28T21:42:12.133101Z"
    },
    "collapsed": false
   },
   "outputs": [
    {
     "name": "stdout",
     "output_type": "stream",
     "text": [
      "找到 kilosort4 文件夹，路径为: /data2/zhangyuhao/xinchao_data/Givenme/1670-2-tremor-Day5-bank_VN-FM_g0/Sorted/kilosort4\n"
     ]
    }
   ],
   "source": [
    "base_folder = r'/data2/zhangyuhao/xinchao_data/Givenme/1670-2-tremor-Day5-bank_VN-FM_g0/'\n",
    "\n",
    "# 初始化 kilosort4_folder 为 None\n",
    "kilosort4_folder = None\n",
    "\n",
    "# 遍历 base_folder 下的所有子文件夹\n",
    "for root, dirs, files in os.walk(base_folder):\n",
    "    for dir_name in dirs:\n",
    "        if dir_name == 'kilosort4':\n",
    "            # 找到 kilosort4 文件夹，构建完整路径\n",
    "            kilosort4_folder = os.path.join(root, dir_name)\n",
    "            break\n",
    "    if kilosort4_folder:\n",
    "        break\n",
    "\n",
    "# 检查是否找到了 kilosort4 文件夹\n",
    "if kilosort4_folder:\n",
    "    print(f\"找到 kilosort4 文件夹，路径为: {kilosort4_folder}\")\n",
    "else:\n",
    "    print(\"未在 base_folder 下找到 kilosort4 文件夹。\")\n"
   ]
  },
  {
   "cell_type": "code",
   "execution_count": 4,
   "metadata": {
    "ExecuteTime": {
     "end_time": "2025-03-28T21:42:12.247166Z",
     "start_time": "2025-03-28T21:42:12.148778Z"
    },
    "collapsed": false
   },
   "outputs": [],
   "source": [
    "recording = si.read_spikeglx(base_folder + 'Rawdata', stream_name='imec0.ap', load_sync_channel=False)"
   ]
  },
  {
   "cell_type": "code",
   "execution_count": 5,
   "metadata": {
    "ExecuteTime": {
     "end_time": "2025-03-28T21:42:12.863395Z",
     "start_time": "2025-03-28T21:42:12.224846Z"
    },
    "collapsed": false
   },
   "outputs": [
    {
     "name": "stdout",
     "output_type": "stream",
     "text": [
      "Sorting information KiloSortSortingExtractor: 185 units - 1 segments - 30.0kHz\n",
      "Unit ids [  0   1   2   3   4   5   6   7   8   9  10  11  12  13  14  15  16  17\n",
      "  18  19  20  21  22  23  24  25  26  27  28  29  30  31  32  33  34  35\n",
      "  36  37  38  39  40  41  42  43  44  45  46  47  48  49  50  51  52  53\n",
      "  54  55  56  57  58  59  60  61  62  63  64  65  66  67  68  69  70  71\n",
      "  72  73  74  75  76  77  78  79  80  81  82  83  84  85  86  87  88  89\n",
      "  90  91  92  93  94  95  96  97  98  99 100 101 102 103 104 105 106 107\n",
      " 108 109 110 111 112 113 114 115 116 117 118 119 120 121 122 123 124 125\n",
      " 126 127 128 129 130 131 132 133 134 135 136 137 138 139 140 141 142 143\n",
      " 144 145 146 147 148 149 150 151 152 153 154 155 156 157 158 159 160 161\n",
      " 162 163 164 165 166 167 168 169 170 171 172 173 174 175 176 177 178 179\n",
      " 180 181 182 183 184]\n"
     ]
    }
   ],
   "source": [
    "sorting_info = se.KiloSortSortingExtractor(kilosort4_folder, keep_good_only=False, remove_empty_units=False)\n",
    "print('Sorting information',sorting_info)\n",
    "\n",
    "sampling_rate = recording.get_sampling_frequency()\n",
    "\n",
    "unit_ids = sorting_info.get_unit_ids()\n",
    "print('Unit ids',unit_ids)"
   ]
  },
  {
   "cell_type": "code",
   "execution_count": 6,
   "metadata": {
    "ExecuteTime": {
     "end_time": "2025-03-28T21:20:05.883281Z",
     "start_time": "2025-03-28T21:17:32.006506Z"
    },
    "collapsed": false,
    "pycharm": {
     "is_executing": true
    }
   },
   "outputs": [
    {
     "data": {
      "application/vnd.jupyter.widget-view+json": {
       "model_id": "d92e23ddb0c24c1382ef1497f2b06d45",
       "version_major": 2,
       "version_minor": 0
      },
      "text/plain": [
       "estimate_sparsity (no parallelization):   0%|          | 0/1058 [00:00<?, ?it/s]"
      ]
     },
     "metadata": {},
     "output_type": "display_data"
    },
    {
     "name": "stderr",
     "output_type": "stream",
     "text": [
      "/home/zhangyuhao/miniconda3/envs/si/lib/python3.11/site-packages/spikeinterface/core/sortinganalyzer.py:300: UserWarning: Sorting and Recording have a small difference in sampling frequency. This could be due to rounding of floats. Using the sampling frequency from the Recording.\n",
      "  warnings.warn(\n"
     ]
    },
    {
     "name": "stdout",
     "output_type": "stream",
     "text": [
      "SortingAnalyzer: 384 channels - 185 units - 1 segments - memory - sparse - has recording\n",
      "Loaded 0 extensions\n"
     ]
    }
   ],
   "source": [
    "analyzer = si.create_sorting_analyzer(sorting=sorting_info, recording=recording, format=\"memory\")\n",
    "print(analyzer)"
   ]
  },
  {
   "cell_type": "code",
   "execution_count": 7,
   "metadata": {
    "ExecuteTime": {
     "end_time": "2025-03-28T21:23:45.580613Z",
     "start_time": "2025-03-28T21:20:05.883281Z"
    },
    "collapsed": false,
    "pycharm": {
     "is_executing": true
    }
   },
   "outputs": [
    {
     "data": {
      "application/vnd.jupyter.widget-view+json": {
       "model_id": "6dbb09d0b4d9449b9fd2cbbbb3f8a771",
       "version_major": 2,
       "version_minor": 0
      },
      "text/plain": [
       "compute_waveforms (workers: 2 processes):   0%|          | 0/1058 [00:00<?, ?it/s]"
      ]
     },
     "metadata": {},
     "output_type": "display_data"
    },
    {
     "data": {
      "application/vnd.jupyter.widget-view+json": {
       "model_id": "f2611311d61d45b1921c686f1b926082",
       "version_major": 2,
       "version_minor": 0
      },
      "text/plain": [
       "noise_level (no parallelization):   0%|          | 0/20 [00:00<?, ?it/s]"
      ]
     },
     "metadata": {},
     "output_type": "display_data"
    },
    {
     "name": "stdout",
     "output_type": "stream",
     "text": [
      "SortingAnalyzer: 384 channels - 185 units - 1 segments - memory - sparse - has recording\n",
      "Loaded 4 extensions: random_spikes, waveforms, templates, noise_levels\n"
     ]
    }
   ],
   "source": [
    "\n",
    "if '__spec__' not in sys.modules['__main__'].__dict__:\n",
    "    sys.modules['__main__'].__spec__ = None\n",
    "\n",
    "    analyzer.compute(\"random_spikes\", method=\"uniform\", max_spikes_per_unit=600, seed=2205)\n",
    "    analyzer.compute(\"waveforms\", ms_before=1.3, ms_after=2.6, n_jobs=2)\n",
    "    analyzer.compute(\"templates\", operators=[\"average\", \"median\", \"std\"])\n",
    "    analyzer.compute(\"noise_levels\")\n",
    "\n",
    "print(analyzer)"
   ]
  },
  {
   "cell_type": "code",
   "execution_count": 8,
   "metadata": {
    "ExecuteTime": {
     "end_time": "2025-03-28T21:24:50.648560Z",
     "start_time": "2025-03-28T21:23:45.578619Z"
    },
    "collapsed": false,
    "pycharm": {
     "is_executing": true
    }
   },
   "outputs": [
    {
     "name": "stdout",
     "output_type": "stream",
     "text": [
      "{np.int64(0): 5.661191001901978, np.int64(1): 39.68224411105999, np.int64(2): 34.231007068800885, np.int64(3): 16.088904330831348, np.int64(4): 3.558814189802396, np.int64(5): 23.798565047086765, np.int64(6): 22.51614356386273, np.int64(7): 10.928954764112806, np.int64(8): 5.051189632669306, np.int64(9): 3.0216346894548645, np.int64(10): 1.866887911419062, np.int64(11): 0.7197070418388583, np.int64(12): 8.406670032727478, np.int64(13): 47.32570312832892, np.int64(14): 65.87825640001469, np.int64(15): 47.37677301040421, np.int64(16): 5.629981629522632, np.int64(17): 3.050952584720311, np.int64(18): 5.037949292872008, np.int64(19): 17.900939405947316, np.int64(20): 36.4572756318609, np.int64(21): 13.136308556033825, np.int64(22): 73.07154386417548, np.int64(23): 6.096230738098923, np.int64(24): 18.142102737969537, np.int64(25): 0.15415538478283033, np.int64(26): 90.45516427947122, np.int64(27): 4.23880021224936, np.int64(28): 18.127916659615288, np.int64(29): 2.0096944335184936, np.int64(30): 2.970564807379571, np.int64(31): 2.0248262504296917, np.int64(32): 8.299801575792142, np.int64(33): 31.889358401792983, np.int64(34): 1.1887933660859984, np.int64(35): 17.853652478099825, np.int64(36): 0.838870100014543, np.int64(37): 1.2237856926931439, np.int64(38): 1.599243899802246, np.int64(39): 2.092919426530083, np.int64(40): 6.130277326149118, np.int64(41): 2.0106401720754437, np.int64(42): 1.5566856647395015, np.int64(43): 1.6824688928138354, np.int64(44): 15.267057524841903, np.int64(45): 21.848452142656114, np.int64(46): 4.448754171892233, np.int64(47): 1.6928720169402842, np.int64(48): 2.227214301616966, np.int64(49): 75.13609113399707, np.int64(50): 7.101550824136645, np.int64(51): 2.5128273458158294, np.int64(52): 7.940420924151187, np.int64(53): 0.24589202480696865, np.int64(54): 0.48232666404443847, np.int64(55): 24.408566416319438, np.int64(56): 85.91845642178264, np.int64(57): 10.977187430517251, np.int64(58): 2.234780210072565, np.int64(59): 51.12851786582438, np.int64(60): 21.857909528225612, np.int64(61): 3.050006846163361, np.int64(62): 2.287741569261758, np.int64(63): 99.02355560543712, np.int64(64): 113.33352571064574, np.int64(65): 17.047883227578527, np.int64(66): 10.753047392520129, np.int64(67): 6.793240054570984, np.int64(68): 36.14234469239659, np.int64(69): 0.17496163303572768, np.int64(70): 170.9498100771463, np.int64(71): 0.4274738277413455, np.int64(72): 0.3016905996670115, np.int64(73): 2.5449824567521255, np.int64(74): 73.83097192540623, np.int64(75): 3.183355982693294, np.int64(76): 91.94470250666727, np.int64(77): 2.150609478504026, np.int64(78): 89.30041750143542, np.int64(79): 76.19153536355313, np.int64(80): 41.35809283397518, np.int64(81): 38.783792481957605, np.int64(82): 4.057218409314983, np.int64(83): 27.029207957627552, np.int64(84): 2.8287040238370893, np.int64(85): 1.2341888168195927, np.int64(86): 78.78002179392496, np.int64(87): 30.66840992477069, np.int64(88): 1.2162197842375448, np.int64(89): 0.3168224165782096, np.int64(90): 39.93475630576561, np.int64(91): 8.956144134315357, np.int64(92): 5.127794455782246, np.int64(93): 10.635775811458343, np.int64(94): 4.257714983388357, np.int64(95): 10.82870647707612, np.int64(96): 12.886633576999056, np.int64(97): 5.381252389044814, np.int64(98): 6.441425311385628, np.int64(99): 13.130634124692126, np.int64(100): 5.060647018238805, np.int64(101): 50.1581901063938, np.int64(102): 14.221070680855336, np.int64(103): 48.11444908482511, np.int64(104): 6.127440110478268, np.int64(105): 2.0267177275435917, np.int64(106): 2.3558347453621495, np.int64(107): 3.1256659307193515, np.int64(108): 53.12875491377338, np.int64(109): 28.817599568819777, np.int64(110): 1.0091030402655212, np.int64(111): 1.1594754708205521, np.int64(112): 72.1787666664148, np.int64(113): 0.1144343653909354, np.int64(114): 0.7187613032819083, np.int64(115): 23.795727831415917, np.int64(116): 0.7121411333832592, np.int64(117): 0.6393192644981185, np.int64(118): 50.919509644738454, np.int64(119): 75.71204591517954, np.int64(120): 57.48766392275537, np.int64(121): 1.25499506507249, np.int64(122): 3.090673604112206, np.int64(123): 2.211136746148818, np.int64(124): 5.3178879057291715, np.int64(125): 4.147063572225221, np.int64(126): 87.69455343173452, np.int64(127): 25.613437337873584, np.int64(128): 4.675731425560204, np.int64(129): 11.198490252843522, np.int64(130): 0.5267763762210829, np.int64(131): 8.31777060837419, np.int64(132): 0.9788394064431252, np.int64(133): 5.700912021293873, np.int64(134): 4.746661817331445, np.int64(135): 3.9815593247589924, np.int64(136): 0.3858613312355508, np.int64(137): 1.364700737678676, np.int64(138): 5.381252389044814, np.int64(139): 1.1783902419595498, np.int64(140): 1.051661275328266, np.int64(141): 0.4813809254874886, np.int64(142): 69.95249810335478, np.int64(143): 0.3366829262741571, np.int64(144): 8.94290379451806, np.int64(145): 27.851054763616997, np.int64(146): 11.551250734585826, np.int64(147): 2.516610300043629, np.int64(148): 17.79028799478418, np.int64(149): 19.812277029543022, np.int64(150): 4.333374067944347, np.int64(151): 0.8681879952799892, np.int64(152): 18.677390761203167, np.int64(153): 6.90294572717717, np.int64(154): 4.279466970198205, np.int64(155): 5.33491119975427, np.int64(156): 1.7335387748891289, np.int64(157): 16.22887363725993, np.int64(158): 2.1874932822250712, np.int64(159): 19.493563135850913, np.int64(160): 17.857435432327623, np.int64(161): 0.8587306097104905, np.int64(162): 22.321321421131053, np.int64(163): 2.2177569160474673, np.int64(164): 0.6175672776882712, np.int64(165): 85.836177167328, np.int64(166): 1.8697251270899116, np.int64(167): 0.6100013692326722, np.int64(168): 28.29176893115564, np.int64(169): 2.7530449392810987, np.int64(170): 0.4501715531081426, np.int64(171): 0.9277695243678317, np.int64(172): 5.917486150835395, np.int64(173): 17.043154534793775, np.int64(174): 36.55657818034064, np.int64(175): 11.76025895567175, np.int64(176): 53.17415036450697, np.int64(177): 0.86251356393829, np.int64(178): 2.3047648632868563, np.int64(179): 77.39924350077813, np.int64(180): 0.4851638797152881, np.int64(181): 0.8880485049759368, np.int64(182): 32.1853745701183, np.int64(183): 0.08133351589768963, np.int64(184): 1.2616152349711391}\n",
      "{np.int64(0): np.float64(0.914781079794211), np.int64(1): np.float64(0.012812602881154416), np.int64(2): np.float64(0.04277673294672471), np.int64(3): np.float64(0.1254394458256185), np.int64(4): np.float64(2.314846309269177), np.int64(5): np.float64(0.2627182821339622), np.int64(6): np.float64(0.11006141416365174), np.int64(7): np.float64(0.5093893875015988), np.int64(8): np.float64(0.07413337025957902), np.int64(9): np.float64(0.6560236950591012), np.int64(10): np.float64(1.1758629478698992), np.int64(11): np.float64(4.260262668340628), np.int64(12): np.float64(0.02230343947714864), np.int64(13): np.float64(0.0007037618079261594), np.int64(14): np.float64(0.0016706808098824082), np.int64(15): np.float64(0.060393102932805184), np.int64(16): np.float64(3.381542125481049), np.int64(17): np.float64(26.78893246988746), np.int64(18): np.float64(9.129134289301346), np.int64(19): np.float64(0.016724267943890713), np.int64(20): np.float64(0.10483436922127831), np.int64(21): np.float64(0.2356637960053748), np.int64(22): np.float64(0.03412566415424673), np.int64(23): np.float64(0.25447686297719574), np.int64(24): np.float64(0.11493593748247206), np.int64(25): np.float64(0.0), np.int64(26): np.float64(0.000577928838422253), np.int64(27): np.float64(1.1930890460060446), np.int64(28): np.float64(0.022063879890824967), np.int64(29): np.float64(13.659280701741691), np.int64(30): np.float64(2.286397577268481), np.int64(31): np.float64(0.2306723660040252), np.int64(32): np.float64(0.06406819026075333), np.int64(33): np.float64(0.009299926840883469), np.int64(34): np.float64(0.8922716327159449), np.int64(35): np.float64(0.11769083603950445), np.int64(36): np.float64(21.50312837950447), np.int64(37): np.float64(0.2104936977288466), np.int64(38): np.float64(0.12325950941807237), np.int64(39): np.float64(0.2159066788209949), np.int64(40): np.float64(0.041943010679646675), np.int64(41): np.float64(0.2339388681793255), np.int64(42): np.float64(0.650456102666317), np.int64(43): np.float64(0.0), np.int64(44): np.float64(0.09061789284692069), np.int64(45): np.float64(0.009245630367263974), np.int64(46): np.float64(0.1433558873785902), np.int64(47): np.float64(0.0), np.int64(48): np.float64(0.19065450944611625), np.int64(49): np.float64(0.271275239539164), np.int64(50): np.float64(1.3501971674752862), np.int64(51): np.float64(1.9471039969213289), np.int64(52): np.float64(0.009999833890883264), np.int64(53): np.float64(5.213879071749985), np.int64(54): np.float64(1.355087371204533), np.int64(55): np.float64(0.22911482490594365), np.int64(56): np.float64(0.28783049522656706), np.int64(57): np.float64(0.711601058173173), np.int64(58): np.float64(1.4518041811466194), np.int64(59): np.float64(0.4606666754439879), np.int64(60): np.float64(0.14318328638322142), np.int64(61): np.float64(0.372769951589764), np.int64(62): np.float64(0.5420987711232423), np.int64(63): np.float64(0.01906459137533468), np.int64(64): np.float64(9.81732193366235e-05), np.int64(65): np.float64(0.017355171085718817), np.int64(66): np.float64(0.013631910467001414), np.int64(67): np.float64(0.45085807533522426), np.int64(68): np.float64(0.08494931026028595), np.int64(69): np.float64(20.59653617240608), np.int64(70): np.float64(0.0029125699160820677), np.int64(71): np.float64(10.350993379971973), np.int64(72): np.float64(3.463588459727194), np.int64(73): np.float64(0.24336059519475295), np.int64(74): np.float64(0.07657035390664776), np.int64(75): np.float64(0.4977364081559349), np.int64(76): np.float64(0.021404658781104164), np.int64(77): np.float64(0.06815955233500706), np.int64(78): np.float64(0.004229866293722719), np.int64(79): np.float64(0.001629137140303162), np.int64(80): np.float64(0.02211617812491925), np.int64(81): np.float64(0.0), np.int64(82): np.float64(0.0), np.int64(83): np.float64(0.00647253578497504), np.int64(84): np.float64(0.15759223519228094), np.int64(85): np.float64(0.6208803016696155), np.int64(86): np.float64(0.0), np.int64(87): np.float64(0.12535420980760975), np.int64(88): np.float64(0.21312073874304874), np.int64(89): np.float64(34.54703032081345), np.int64(90): np.float64(0.1387665769765877), np.int64(91): np.float64(0.4205246613468642), np.int64(92): np.float64(15.322141805904156), np.int64(93): np.float64(6.270382150167495), np.int64(94): np.float64(3.3040778360590815), np.int64(95): np.float64(0.013442086354199918), np.int64(96): np.float64(1.7863251150701556), np.int64(97): np.float64(0.0), np.int64(98): np.float64(2.955530808697175), np.int64(99): np.float64(3.651375565053767), np.int64(100): np.float64(1.6987005778551012), np.int64(101): np.float64(0.07493199753834236), np.int64(102): np.float64(1.5260471158353948), np.int64(103): np.float64(0.007081123179934652), np.int64(104): np.float64(7.38041130222809), np.int64(105): np.float64(15.963445832944945), np.int64(106): np.float64(9.201851271651158), np.int64(107): np.float64(0.9680236708703833), np.int64(108): np.float64(0.011168389818489648), np.int64(109): np.float64(0.0030368561639994335), np.int64(110): np.float64(17.955884566752374), np.int64(111): np.float64(37.28411458555492), np.int64(112): np.float64(0.0035096104961684386), np.int64(113): np.float64(48.14674206000943), np.int64(114): np.float64(38.4433313552092), np.int64(115): np.float64(0.07627327980349921), np.int64(116): np.float64(0.0), np.int64(117): np.float64(0.7712838863535482), np.int64(118): np.float64(0.014347076774160923), np.int64(119): np.float64(0.017433281333254464), np.int64(120): np.float64(0.02785373055116171), np.int64(121): np.float64(40.63140519907998), np.int64(122): np.float64(8.21756033501343), np.int64(123): np.float64(31.014423495437416), np.int64(124): np.float64(2.7645418190960687), np.int64(125): np.float64(8.908502863454391), np.int64(126): np.float64(0.023447720442448847), np.int64(127): np.float64(0.0019220916937450652), np.int64(128): np.float64(0.8940100797834833), np.int64(129): np.float64(0.052789820170722354), np.int64(130): np.float64(0.0), np.int64(131): np.float64(0.054678577619701456), np.int64(132): np.float64(1.3160940988132241), np.int64(133): np.float64(0.21339480553663137), np.int64(134): np.float64(0.9654334664862736), np.int64(135): np.float64(0.7357752627361086), np.int64(136): np.float64(14.82126812254958), np.int64(137): np.float64(0.8463402437707954), np.int64(138): np.float64(0.15240918929408379), np.int64(139): np.float64(24.74560426577413), np.int64(140): np.float64(0.28503492415174797), np.int64(141): np.float64(8.16250265940688), np.int64(142): np.float64(0.0377520900058745), np.int64(143): np.float64(0.0), np.int64(144): np.float64(0.06306852957402116), np.int64(145): np.float64(0.011785948631356544), np.int64(146): np.float64(0.0023626088081839356), np.int64(147): np.float64(0.1991030405509673), np.int64(148): np.float64(1.9741835707475652), np.int64(149): np.float64(1.49139595306211), np.int64(150): np.float64(0.26860708452298704), np.int64(151): np.float64(31.367763222327152), np.int64(152): np.float64(0.11205703206985243), np.int64(153): np.float64(2.5933849713889003), np.int64(154): np.float64(13.323288854124423), np.int64(155): np.float64(8.73921560256254), np.int64(156): np.float64(4.615676860459723), np.int64(157): np.float64(1.5129346066786), np.int64(158): np.float64(7.642129165427814), np.int64(159): np.float64(2.655541278678679), np.int64(160): np.float64(0.38258032212708665), np.int64(161): np.float64(1.7099993462433725), np.int64(162): np.float64(0.013287073357840788), np.int64(163): np.float64(28.650320136184806), np.int64(164): np.float64(25.623767281551913), np.int64(165): np.float64(0.02896661680838848), np.int64(166): np.float64(0.0), np.int64(167): np.float64(22.87451975664461), np.int64(168): np.float64(0.02441863173639987), np.int64(169): np.float64(0.0), np.int64(170): np.float64(24.889359879266934), np.int64(171): np.float64(56.40146129004194), np.int64(172): np.float64(0.21606607455349994), np.int64(173): np.float64(0.011938302026635676), np.int64(174): np.float64(0.16300345614774206), np.int64(175): np.float64(0.13448321486295778), np.int64(176): np.float64(0.18608229707910265), np.int64(177): np.float64(0.0), np.int64(178): np.float64(9.614165773646643), np.int64(179): np.float64(0.1215067323300018), np.int64(180): np.float64(20.089271072027802), np.int64(181): np.float64(32.778593762113545), np.int64(182): np.float64(0.05569084335487967), np.int64(183): np.float64(381.2419959440768), np.int64(184): np.float64(0.9902982127291837)}\n",
      "{np.int64(0): np.float64(inf), np.int64(1): np.float64(inf), np.int64(2): np.float64(inf), np.int64(3): np.float64(inf), np.int64(4): np.float64(inf), np.int64(5): np.float64(inf), np.int64(6): np.float64(inf), np.int64(7): np.float64(inf), np.int64(8): np.float64(inf), np.int64(9): np.float64(inf), np.int64(10): np.float64(inf), np.int64(11): np.float64(inf), np.int64(12): np.float64(inf), np.int64(13): np.float64(inf), np.int64(14): np.float64(inf), np.int64(15): np.float64(inf), np.int64(16): np.float64(inf), np.int64(17): np.float64(inf), np.int64(18): np.float64(inf), np.int64(19): np.float64(inf), np.int64(20): np.float64(inf), np.int64(21): np.float64(inf), np.int64(22): np.float64(inf), np.int64(23): np.float64(inf), np.int64(24): np.float64(inf), np.int64(25): np.float64(inf), np.int64(26): np.float64(inf), np.int64(27): np.float64(inf), np.int64(28): np.float64(inf), np.int64(29): np.float64(inf), np.int64(30): np.float64(inf), np.int64(31): np.float64(inf), np.int64(32): np.float64(inf), np.int64(33): np.float64(inf), np.int64(34): np.float64(inf), np.int64(35): np.float64(inf), np.int64(36): np.float64(inf), np.int64(37): np.float64(inf), np.int64(38): np.float64(inf), np.int64(39): np.float64(inf), np.int64(40): np.float64(inf), np.int64(41): np.float64(inf), np.int64(42): np.float64(inf), np.int64(43): np.float64(inf), np.int64(44): np.float64(inf), np.int64(45): np.float64(inf), np.int64(46): np.float64(inf), np.int64(47): np.float64(inf), np.int64(48): np.float64(inf), np.int64(49): np.float64(inf), np.int64(50): np.float64(inf), np.int64(51): np.float64(inf), np.int64(52): np.float64(inf), np.int64(53): np.float64(inf), np.int64(54): np.float64(inf), np.int64(55): np.float64(inf), np.int64(56): np.float64(inf), np.int64(57): np.float64(inf), np.int64(58): np.float64(inf), np.int64(59): np.float64(inf), np.int64(60): np.float64(inf), np.int64(61): np.float64(inf), np.int64(62): np.float64(inf), np.int64(63): np.float64(inf), np.int64(64): np.float64(inf), np.int64(65): np.float64(inf), np.int64(66): np.float64(inf), np.int64(67): np.float64(inf), np.int64(68): np.float64(inf), np.int64(69): np.float64(inf), np.int64(70): np.float64(inf), np.int64(71): np.float64(inf), np.int64(72): np.float64(inf), np.int64(73): np.float64(inf), np.int64(74): np.float64(inf), np.int64(75): np.float64(inf), np.int64(76): np.float64(inf), np.int64(77): np.float64(inf), np.int64(78): np.float64(inf), np.int64(79): np.float64(inf), np.int64(80): np.float64(inf), np.int64(81): np.float64(inf), np.int64(82): np.float64(inf), np.int64(83): np.float64(inf), np.int64(84): np.float64(inf), np.int64(85): np.float64(inf), np.int64(86): np.float64(inf), np.int64(87): np.float64(inf), np.int64(88): np.float64(inf), np.int64(89): np.float64(inf), np.int64(90): np.float64(inf), np.int64(91): np.float64(inf), np.int64(92): np.float64(inf), np.int64(93): np.float64(inf), np.int64(94): np.float64(inf), np.int64(95): np.float64(inf), np.int64(96): np.float64(inf), np.int64(97): np.float64(inf), np.int64(98): np.float64(inf), np.int64(99): np.float64(inf), np.int64(100): np.float64(inf), np.int64(101): np.float64(inf), np.int64(102): np.float64(inf), np.int64(103): np.float64(inf), np.int64(104): np.float64(inf), np.int64(105): np.float64(inf), np.int64(106): np.float64(inf), np.int64(107): np.float64(inf), np.int64(108): np.float64(inf), np.int64(109): np.float64(inf), np.int64(110): np.float64(inf), np.int64(111): np.float64(inf), np.int64(112): np.float64(inf), np.int64(113): np.float64(inf), np.int64(114): np.float64(inf), np.int64(115): np.float64(inf), np.int64(116): np.float64(inf), np.int64(117): np.float64(inf), np.int64(118): np.float64(inf), np.int64(119): np.float64(inf), np.int64(120): np.float64(inf), np.int64(121): np.float64(inf), np.int64(122): np.float64(inf), np.int64(123): np.float64(inf), np.int64(124): np.float64(inf), np.int64(125): np.float64(inf), np.int64(126): np.float64(inf), np.int64(127): np.float64(inf), np.int64(128): np.float64(inf), np.int64(129): np.float64(inf), np.int64(130): np.float64(inf), np.int64(131): np.float64(inf), np.int64(132): np.float64(inf), np.int64(133): np.float64(inf), np.int64(134): np.float64(inf), np.int64(135): np.float64(inf), np.int64(136): np.float64(inf), np.int64(137): np.float64(inf), np.int64(138): np.float64(inf), np.int64(139): np.float64(inf), np.int64(140): np.float64(inf), np.int64(141): np.float64(inf), np.int64(142): np.float64(inf), np.int64(143): np.float64(inf), np.int64(144): np.float64(inf), np.int64(145): np.float64(inf), np.int64(146): np.float64(inf), np.int64(147): np.float64(inf), np.int64(148): np.float64(inf), np.int64(149): np.float64(inf), np.int64(150): np.float64(inf), np.int64(151): np.float64(inf), np.int64(152): np.float64(inf), np.int64(153): np.float64(inf), np.int64(154): np.float64(inf), np.int64(155): np.float64(inf), np.int64(156): np.float64(inf), np.int64(157): np.float64(inf), np.int64(158): np.float64(inf), np.int64(159): np.float64(inf), np.int64(160): np.float64(inf), np.int64(161): np.float64(inf), np.int64(162): np.float64(inf), np.int64(163): np.float64(inf), np.int64(164): np.float64(inf), np.int64(165): np.float64(inf), np.int64(166): np.float64(inf), np.int64(167): np.float64(inf), np.int64(168): np.float64(inf), np.int64(169): np.float64(inf), np.int64(170): np.float64(inf), np.int64(171): np.float64(inf), np.int64(172): np.float64(inf), np.int64(173): np.float64(inf), np.int64(174): np.float64(inf), np.int64(175): np.float64(inf), np.int64(176): np.float64(inf), np.int64(177): np.float64(inf), np.int64(178): np.float64(inf), np.int64(179): np.float64(inf), np.int64(180): np.float64(inf), np.int64(181): np.float64(inf), np.int64(182): np.float64(inf), np.int64(183): np.float64(inf), np.int64(184): np.float64(inf)}\n"
     ]
    },
    {
     "name": "stderr",
     "output_type": "stream",
     "text": [
      "/home/zhangyuhao/miniconda3/envs/si/lib/python3.11/site-packages/spikeinterface/qualitymetrics/misc_metrics.py:236: RuntimeWarning: divide by zero encountered in scalar divide\n",
      "  snrs[unit_id] = np.abs(amplitude) / noise\n"
     ]
    }
   ],
   "source": [
    "firing_rates = compute_firing_rates(analyzer)\n",
    "print(firing_rates)\n",
    "isi_violation_ratio, isi_violations_count = compute_isi_violations(analyzer)\n",
    "print(isi_violation_ratio)\n",
    "snrs = compute_snrs(analyzer)\n",
    "print(snrs)\n"
   ]
  },
  {
   "cell_type": "markdown",
   "metadata": {
    "collapsed": false
   },
   "source": [
    "## Save quality metrics"
   ]
  },
  {
   "cell_type": "code",
   "execution_count": 9,
   "metadata": {
    "ExecuteTime": {
     "end_time": "2025-03-28T21:24:53.226816Z",
     "start_time": "2025-03-28T21:24:50.649548Z"
    },
    "collapsed": false,
    "pycharm": {
     "is_executing": true
    }
   },
   "outputs": [
    {
     "name": "stderr",
     "output_type": "stream",
     "text": [
      "/home/zhangyuhao/miniconda3/envs/si/lib/python3.11/site-packages/spikeinterface/qualitymetrics/misc_metrics.py:236: RuntimeWarning: divide by zero encountered in scalar divide\n",
      "  snrs[unit_id] = np.abs(amplitude) / noise\n"
     ]
    },
    {
     "name": "stdout",
     "output_type": "stream",
     "text": [
      "Metrics saved to /data2/zhangyuhao/xinchao_data/Givenme/1670-2-tremor-Day5-bank_VN-FM_g0/\n",
      "     firing_rate  presence_ratio  snr  isi_violations_ratio  \\\n",
      "0       5.661191        1.000000  inf              0.914781   \n",
      "1      39.682244        1.000000  inf              0.012813   \n",
      "2      34.231007        1.000000  inf              0.042777   \n",
      "3      16.088904        1.000000  inf              0.125439   \n",
      "4       3.558814        0.941176  inf              2.314846   \n",
      "..           ...             ...  ...                   ...   \n",
      "180     0.485164        0.823529  inf             20.089271   \n",
      "181     0.888049        1.000000  inf             32.778594   \n",
      "182    32.185375        1.000000  inf              0.055691   \n",
      "183     0.081334        1.000000  inf            381.241996   \n",
      "184     1.261615        1.000000  inf              0.990298   \n",
      "\n",
      "     isi_violations_count  amplitude_cutoff  \n",
      "0                    93.0               0.0  \n",
      "1                    64.0               0.0  \n",
      "2                   159.0               0.0  \n",
      "3                   103.0               0.0  \n",
      "4                    93.0               0.0  \n",
      "..                    ...               ...  \n",
      "180                  15.0               0.0  \n",
      "181                  82.0               0.0  \n",
      "182                 183.0               0.0  \n",
      "183                   8.0               NaN  \n",
      "184                   5.0               0.0  \n",
      "\n",
      "[185 rows x 6 columns]\n"
     ]
    },
    {
     "name": "stderr",
     "output_type": "stream",
     "text": [
      "/home/zhangyuhao/miniconda3/envs/si/lib/python3.11/site-packages/spikeinterface/qualitymetrics/misc_metrics.py:1280: UserWarning: Amplitude PDF does not have a unique minimum! More spikes might be required for a correct amplitude_cutoff computation!\n",
      "  warnings.warn(\n",
      "/home/zhangyuhao/miniconda3/envs/si/lib/python3.11/site-packages/spikeinterface/qualitymetrics/misc_metrics.py:909: UserWarning: Some units have too few spikes : amplitude_cutoff is set to NaN\n",
      "  warnings.warn(f\"Some units have too few spikes : amplitude_cutoff is set to NaN\")\n",
      "/home/zhangyuhao/miniconda3/envs/si/lib/python3.11/site-packages/pandas/core/dtypes/cast.py:1056: RuntimeWarning: invalid value encountered in cast\n",
      "  if (arr.astype(int) == arr).all():\n",
      "/home/zhangyuhao/miniconda3/envs/si/lib/python3.11/site-packages/pandas/core/dtypes/cast.py:1080: RuntimeWarning: invalid value encountered in cast\n",
      "  if (arr.astype(int) == arr).all():\n"
     ]
    }
   ],
   "source": [
    "# qc_metric_names=['firing_rate', 'presence_ratio', 'snr', 'isi_violation', 'rp_violation', 'amplitude_cutoff']\n",
    "qc_metric_names=['firing_rate', 'presence_ratio', 'snr', 'isi_violation', 'amplitude_cutoff']\n",
    "metrics = compute_quality_metrics(analyzer, metric_names=qc_metric_names)\n",
    "metrics_df = pd.DataFrame(metrics)\n",
    "\n",
    "# 添加 cluster_id 列\n",
    "metrics_df['cluster_id'] = unit_ids\n",
    "cols = ['cluster_id'] + [col for col in metrics_df.columns if col != 'cluster_id']\n",
    "metrics_df = metrics_df[cols]\n",
    "metrics_df.to_csv(os.path.join(base_folder,'quality_metrics.csv'), index=False)\n",
    "\n",
    "print('Metrics saved to' , base_folder)\n",
    "print(metrics)"
   ]
  },
  {
   "cell_type": "markdown",
   "metadata": {
    "collapsed": false
   },
   "source": [
    "## Extractor good units"
   ]
  },
  {
   "cell_type": "code",
   "execution_count": 10,
   "metadata": {
    "ExecuteTime": {
     "end_time": "2025-03-28T21:24:53.273367Z",
     "start_time": "2025-03-28T21:24:53.227813Z"
    },
    "collapsed": false,
    "pycharm": {
     "is_executing": true
    }
   },
   "outputs": [],
   "source": [
    "isi_th = 0.1\n",
    "snr_th = 2"
   ]
  },
  {
   "cell_type": "code",
   "execution_count": 11,
   "metadata": {
    "ExecuteTime": {
     "end_time": "2025-03-28T21:24:53.290310Z",
     "start_time": "2025-03-28T21:24:53.242962Z"
    },
    "collapsed": false,
    "pycharm": {
     "is_executing": true
    }
   },
   "outputs": [
    {
     "name": "stdout",
     "output_type": "stream",
     "text": [
      "读取到的数据：\n",
      "     cluster_id  firing_rate  presence_ratio  snr  isi_violations_ratio  \\\n",
      "0             0     5.661191        1.000000  inf              0.914781   \n",
      "1             1    39.682244        1.000000  inf              0.012813   \n",
      "2             2    34.231007        1.000000  inf              0.042777   \n",
      "3             3    16.088904        1.000000  inf              0.125439   \n",
      "4             4     3.558814        0.941176  inf              2.314846   \n",
      "..          ...          ...             ...  ...                   ...   \n",
      "180         180     0.485164        0.823529  inf             20.089271   \n",
      "181         181     0.888049        1.000000  inf             32.778594   \n",
      "182         182    32.185375        1.000000  inf              0.055691   \n",
      "183         183     0.081334        1.000000  inf            381.241996   \n",
      "184         184     1.261615        1.000000  inf              0.990298   \n",
      "\n",
      "     isi_violations_count  amplitude_cutoff  \n",
      "0                    93.0               0.0  \n",
      "1                    64.0               0.0  \n",
      "2                   159.0               0.0  \n",
      "3                   103.0               0.0  \n",
      "4                    93.0               0.0  \n",
      "..                    ...               ...  \n",
      "180                  15.0               0.0  \n",
      "181                  82.0               0.0  \n",
      "182                 183.0               0.0  \n",
      "183                   8.0               NaN  \n",
      "184                   5.0               0.0  \n",
      "\n",
      "[185 rows x 7 columns]\n",
      "转换为字典格式的数据：\n",
      "{'cluster_id': [0, 1, 2, 3, 4, 5, 6, 7, 8, 9, 10, 11, 12, 13, 14, 15, 16, 17, 18, 19, 20, 21, 22, 23, 24, 25, 26, 27, 28, 29, 30, 31, 32, 33, 34, 35, 36, 37, 38, 39, 40, 41, 42, 43, 44, 45, 46, 47, 48, 49, 50, 51, 52, 53, 54, 55, 56, 57, 58, 59, 60, 61, 62, 63, 64, 65, 66, 67, 68, 69, 70, 71, 72, 73, 74, 75, 76, 77, 78, 79, 80, 81, 82, 83, 84, 85, 86, 87, 88, 89, 90, 91, 92, 93, 94, 95, 96, 97, 98, 99, 100, 101, 102, 103, 104, 105, 106, 107, 108, 109, 110, 111, 112, 113, 114, 115, 116, 117, 118, 119, 120, 121, 122, 123, 124, 125, 126, 127, 128, 129, 130, 131, 132, 133, 134, 135, 136, 137, 138, 139, 140, 141, 142, 143, 144, 145, 146, 147, 148, 149, 150, 151, 152, 153, 154, 155, 156, 157, 158, 159, 160, 161, 162, 163, 164, 165, 166, 167, 168, 169, 170, 171, 172, 173, 174, 175, 176, 177, 178, 179, 180, 181, 182, 183, 184], 'firing_rate': [5.661191001901978, 39.68224411105999, 34.231007068800885, 16.088904330831348, 3.558814189802396, 23.798565047086765, 22.51614356386273, 10.928954764112806, 5.051189632669306, 3.0216346894548645, 1.866887911419062, 0.7197070418388583, 8.406670032727478, 47.32570312832892, 65.87825640001469, 47.37677301040421, 5.629981629522632, 3.050952584720311, 5.037949292872008, 17.900939405947316, 36.4572756318609, 13.136308556033825, 73.07154386417548, 6.096230738098923, 18.142102737969537, 0.1541553847828303, 90.45516427947122, 4.23880021224936, 18.127916659615288, 2.0096944335184936, 2.970564807379571, 2.024826250429692, 8.299801575792142, 31.889358401792983, 1.1887933660859984, 17.853652478099825, 0.838870100014543, 1.223785692693144, 1.599243899802246, 2.092919426530083, 6.130277326149118, 2.010640172075444, 1.5566856647395015, 1.6824688928138354, 15.267057524841904, 21.848452142656114, 4.448754171892233, 1.6928720169402842, 2.227214301616966, 75.13609113399707, 7.101550824136645, 2.512827345815829, 7.940420924151187, 0.2458920248069686, 0.4823266640444384, 24.40856641631944, 85.91845642178264, 10.977187430517253, 2.234780210072565, 51.12851786582438, 21.85790952822561, 3.050006846163361, 2.287741569261758, 99.02355560543712, 113.33352571064574, 17.047883227578527, 10.753047392520129, 6.793240054570984, 36.14234469239659, 0.1749616330357276, 170.9498100771463, 0.4274738277413455, 0.3016905996670115, 2.544982456752125, 73.83097192540623, 3.183355982693294, 91.94470250666728, 2.150609478504026, 89.30041750143542, 76.19153536355313, 41.35809283397518, 38.783792481957605, 4.057218409314983, 27.029207957627552, 2.8287040238370893, 1.2341888168195927, 78.78002179392496, 30.66840992477069, 1.2162197842375448, 0.3168224165782096, 39.93475630576561, 8.956144134315357, 5.127794455782246, 10.635775811458345, 4.257714983388357, 10.82870647707612, 12.886633576999056, 5.381252389044814, 6.441425311385628, 13.130634124692126, 5.060647018238805, 50.1581901063938, 14.221070680855336, 48.11444908482511, 6.127440110478268, 2.026717727543592, 2.355834745362149, 3.1256659307193515, 53.12875491377338, 28.817599568819777, 1.0091030402655212, 1.159475470820552, 72.1787666664148, 0.1144343653909354, 0.7187613032819083, 23.79572783141592, 0.7121411333832592, 0.6393192644981185, 50.91950964473845, 75.71204591517954, 57.48766392275537, 1.25499506507249, 3.090673604112206, 2.211136746148818, 5.317887905729172, 4.147063572225221, 87.69455343173452, 25.613437337873584, 4.675731425560204, 11.198490252843522, 0.5267763762210829, 8.31777060837419, 0.9788394064431252, 5.700912021293873, 4.746661817331445, 3.981559324758992, 0.3858613312355508, 1.364700737678676, 5.381252389044814, 1.1783902419595498, 1.051661275328266, 0.4813809254874886, 69.95249810335478, 0.3366829262741571, 8.94290379451806, 27.851054763617, 11.551250734585826, 2.516610300043629, 17.79028799478418, 19.812277029543026, 4.333374067944347, 0.8681879952799892, 18.677390761203167, 6.90294572717717, 4.279466970198205, 5.33491119975427, 1.7335387748891289, 16.22887363725993, 2.1874932822250712, 19.493563135850916, 17.857435432327623, 0.8587306097104905, 22.321321421131053, 2.2177569160474677, 0.6175672776882712, 85.836177167328, 1.869725127089912, 0.6100013692326722, 28.29176893115564, 2.7530449392810987, 0.4501715531081426, 0.9277695243678316, 5.917486150835395, 17.043154534793775, 36.55657818034064, 11.76025895567175, 53.17415036450697, 0.86251356393829, 2.3047648632868563, 77.39924350077813, 0.4851638797152881, 0.8880485049759368, 32.1853745701183, 0.0813335158976896, 1.2616152349711391], 'presence_ratio': [1.0, 1.0, 1.0, 1.0, 0.9411764705882352, 1.0, 1.0, 1.0, 1.0, 1.0, 1.0, 1.0, 1.0, 1.0, 1.0, 1.0, 1.0, 1.0, 1.0, 1.0, 1.0, 1.0, 1.0, 1.0, 1.0, 1.0, 1.0, 1.0, 1.0, 1.0, 1.0, 1.0, 1.0, 1.0, 1.0, 1.0, 1.0, 1.0, 1.0, 1.0, 1.0, 1.0, 1.0, 1.0, 1.0, 1.0, 1.0, 1.0, 1.0, 1.0, 1.0, 1.0, 1.0, 1.0, 1.0, 1.0, 1.0, 1.0, 1.0, 1.0, 1.0, 1.0, 1.0, 1.0, 1.0, 1.0, 1.0, 1.0, 1.0, 0.4117647058823529, 1.0, 1.0, 1.0, 1.0, 1.0, 1.0, 1.0, 1.0, 1.0, 1.0, 1.0, 1.0, 0.9411764705882352, 1.0, 1.0, 1.0, 1.0, 1.0, 1.0, 0.8235294117647058, 1.0, 1.0, 1.0, 1.0, 0.9411764705882352, 1.0, 1.0, 1.0, 1.0, 1.0, 1.0, 1.0, 1.0, 1.0, 1.0, 1.0, 1.0, 1.0, 1.0, 1.0, 1.0, 1.0, 1.0, 0.4117647058823529, 1.0, 1.0, 1.0, 1.0, 1.0, 1.0, 1.0, 1.0, 1.0, 1.0, 1.0, 1.0, 1.0, 1.0, 1.0, 1.0, 1.0, 1.0, 1.0, 1.0, 1.0, 1.0, 1.0, 1.0, 1.0, 1.0, 1.0, 1.0, 1.0, 1.0, 1.0, 1.0, 1.0, 1.0, 1.0, 1.0, 1.0, 1.0, 1.0, 1.0, 1.0, 1.0, 1.0, 1.0, 1.0, 1.0, 1.0, 1.0, 1.0, 1.0, 0.9411764705882352, 1.0, 1.0, 1.0, 1.0, 1.0, 1.0, 1.0, 1.0, 1.0, 1.0, 1.0, 1.0, 1.0, 1.0, 1.0, 0.8235294117647058, 1.0, 1.0, 1.0, 1.0], 'snr': [inf, inf, inf, inf, inf, inf, inf, inf, inf, inf, inf, inf, inf, inf, inf, inf, inf, inf, inf, inf, inf, inf, inf, inf, inf, inf, inf, inf, inf, inf, inf, inf, inf, inf, inf, inf, inf, inf, inf, inf, inf, inf, inf, inf, inf, inf, inf, inf, inf, inf, inf, inf, inf, inf, inf, inf, inf, inf, inf, inf, inf, inf, inf, inf, inf, inf, inf, inf, inf, inf, inf, inf, inf, inf, inf, inf, inf, inf, inf, inf, inf, inf, inf, inf, inf, inf, inf, inf, inf, inf, inf, inf, inf, inf, inf, inf, inf, inf, inf, inf, inf, inf, inf, inf, inf, inf, inf, inf, inf, inf, inf, inf, inf, inf, inf, inf, inf, inf, inf, inf, inf, inf, inf, inf, inf, inf, inf, inf, inf, inf, inf, inf, inf, inf, inf, inf, inf, inf, inf, inf, inf, inf, inf, inf, inf, inf, inf, inf, inf, inf, inf, inf, inf, inf, inf, inf, inf, inf, inf, inf, inf, inf, inf, inf, inf, inf, inf, inf, inf, inf, inf, inf, inf, inf, inf, inf, inf, inf, inf, inf, inf, inf, inf, inf, inf], 'isi_violations_ratio': [0.914781079794211, 0.0128126028811544, 0.0427767329467247, 0.1254394458256185, 2.314846309269177, 0.2627182821339622, 0.1100614141636517, 0.5093893875015988, 0.074133370259579, 0.6560236950591012, 1.1758629478698992, 4.260262668340628, 0.0223034394771486, 0.0007037618079261, 0.0016706808098824, 0.0603931029328051, 3.381542125481049, 26.78893246988746, 9.129134289301346, 0.0167242679438907, 0.1048343692212783, 0.2356637960053748, 0.0341256641542467, 0.2544768629771957, 0.114935937482472, 0.0, 0.0005779288384222, 1.1930890460060446, 0.0220638798908249, 13.659280701741691, 2.286397577268481, 0.2306723660040252, 0.0640681902607533, 0.0092999268408834, 0.8922716327159449, 0.1176908360395044, 21.50312837950447, 0.2104936977288466, 0.1232595094180723, 0.2159066788209949, 0.0419430106796466, 0.2339388681793255, 0.650456102666317, 0.0, 0.0906178928469206, 0.0092456303672639, 0.1433558873785902, 0.0, 0.1906545094461162, 0.271275239539164, 1.3501971674752862, 1.9471039969213289, 0.0099998338908832, 5.213879071749985, 1.355087371204533, 0.2291148249059436, 0.287830495226567, 0.711601058173173, 1.4518041811466194, 0.4606666754439879, 0.1431832863832214, 0.372769951589764, 0.5420987711232423, 0.0190645913753346, 9.81732193366235e-05, 0.0173551710857188, 0.0136319104670014, 0.4508580753352242, 0.0849493102602859, 20.59653617240608, 0.002912569916082, 10.350993379971973, 3.463588459727194, 0.2433605951947529, 0.0765703539066477, 0.4977364081559349, 0.0214046587811041, 0.068159552335007, 0.0042298662937227, 0.0016291371403031, 0.0221161781249192, 0.0, 0.0, 0.006472535784975, 0.1575922351922809, 0.6208803016696155, 0.0, 0.1253542098076097, 0.2131207387430487, 34.54703032081345, 0.1387665769765877, 0.4205246613468642, 15.322141805904156, 6.270382150167495, 3.304077836059081, 0.0134420863541999, 1.7863251150701556, 0.0, 2.955530808697175, 3.651375565053767, 1.6987005778551012, 0.0749319975383423, 1.5260471158353948, 0.0070811231799346, 7.38041130222809, 15.963445832944943, 9.201851271651158, 0.9680236708703832, 0.0111683898184896, 0.0030368561639994, 17.955884566752374, 37.28411458555492, 0.0035096104961684, 48.14674206000943, 38.4433313552092, 0.0762732798034992, 0.0, 0.7712838863535482, 0.0143470767741609, 0.0174332813332544, 0.0278537305511617, 40.63140519907998, 8.21756033501343, 31.014423495437416, 2.7645418190960687, 8.908502863454391, 0.0234477204424488, 0.001922091693745, 0.8940100797834833, 0.0527898201707223, 0.0, 0.0546785776197014, 1.316094098813224, 0.2133948055366313, 0.9654334664862736, 0.7357752627361086, 14.82126812254958, 0.8463402437707954, 0.1524091892940837, 24.74560426577413, 0.2850349241517479, 8.16250265940688, 0.0377520900058745, 0.0, 0.0630685295740211, 0.0117859486313565, 0.0023626088081839, 0.1991030405509673, 1.9741835707475648, 1.49139595306211, 0.268607084522987, 31.367763222327152, 0.1120570320698524, 2.5933849713889003, 13.323288854124424, 8.73921560256254, 4.615676860459723, 1.5129346066786, 7.642129165427814, 2.655541278678679, 0.3825803221270866, 1.7099993462433725, 0.0132870733578407, 28.650320136184806, 25.623767281551917, 0.0289666168083884, 0.0, 22.87451975664461, 0.0244186317363998, 0.0, 24.889359879266934, 56.40146129004194, 0.2160660745534999, 0.0119383020266356, 0.163003456147742, 0.1344832148629577, 0.1860822970791026, 0.0, 9.614165773646643, 0.1215067323300018, 20.0892710720278, 32.778593762113545, 0.0556908433548796, 381.2419959440768, 0.9902982127291836], 'isi_violations_count': [93.0, 64.0, 159.0, 103.0, 93.0, 472.0, 177.0, 193.0, 6.0, 19.0, 13.0, 7.0, 5.0, 5.0, 23.0, 430.0, 340.0, 791.0, 735.0, 17.0, 442.0, 129.0, 578.0, 30.0, 120.0, 0.0, 15.0, 68.0, 23.0, 175.0, 64.0, 3.0, 14.0, 30.0, 4.0, 119.0, 48.0, 1.0, 1.0, 3.0, 5.0, 3.0, 5.0, 0.0, 67.0, 14.0, 9.0, 0.0, 3.0, 4858.0, 216.0, 39.0, 2.0, 1.0, 1.0, 433.0, 6740.0, 272.0, 23.0, 3820.0, 217.0, 11.0, 9.0, 593.0, 4.0, 16.0, 5.0, 66.0, 352.0, 2.0, 270.0, 6.0, 1.0, 5.0, 1324.0, 16.0, 574.0, 1.0, 107.0, 30.0, 120.0, 0.0, 0.0, 15.0, 4.0, 3.0, 0.0, 374.0, 1.0, 11.0, 702.0, 107.0, 1278.0, 2250.0, 190.0, 5.0, 941.0, 0.0, 389.0, 1997.0, 138.0, 598.0, 979.0, 52.0, 879.0, 208.0, 162.0, 30.0, 100.0, 8.0, 58.0, 159.0, 58.0, 2.0, 63.0, 137.0, 0.0, 1.0, 118.0, 317.0, 292.0, 203.0, 249.0, 481.0, 248.0, 486.0, 572.0, 4.0, 62.0, 21.0, 0.0, 12.0, 4.0, 22.0, 69.0, 37.0, 7.0, 5.0, 14.0, 109.0, 1.0, 6.0, 586.0, 0.0, 16.0, 29.0, 1.0, 4.0, 1982.0, 1857.0, 16.0, 75.0, 124.0, 392.0, 774.0, 789.0, 44.0, 1264.0, 116.0, 3201.0, 387.0, 4.0, 21.0, 447.0, 31.0, 677.0, 0.0, 27.0, 62.0, 0.0, 16.0, 154.0, 24.0, 11.0, 691.0, 59.0, 1669.0, 0.0, 162.0, 2309.0, 15.0, 82.0, 183.0, 8.0, 5.0], 'amplitude_cutoff': [0.0, 0.0, 0.0, 0.0, 0.0, 0.0, 0.0, 0.0, 0.0, 0.0, 0.0, 0.0, 0.0, 0.0, 0.0, 0.0, 0.0, 0.2583512178077425, 0.0, 0.0, 0.0, 0.0, 0.0, 0.0, 0.0, nan, 0.0, 0.0, 0.0, 0.0, 0.2583512178077425, 0.0, 0.0, 0.0, 0.0, 0.0, 0.0, 0.0, 0.0, 0.0, 0.0, 0.0, 0.0, 0.0, 0.0, 0.0, 0.0, 0.0, 0.0, 0.0, 0.0, 0.0, 0.0, nan, 0.0, 0.0, 0.0, 0.0, 0.0, 0.0, 0.0, 0.0, 0.0, 0.0, 0.0, 0.0, 0.0, 0.0, 0.0, nan, 0.0, nan, nan, 0.0, 0.0, 0.0, 0.2583512178077425, 0.0, 0.0, 0.0, 0.0, 0.0, 0.0, 0.0, 0.0, 0.0, 0.0, 0.0, 0.0, nan, 0.0, 0.0, 0.2583512178077425, 0.0, 0.0, 0.0, 0.0, 0.0, 0.0, 0.0, 0.0, 0.0, 0.0, 0.0, 0.0, 0.0, 0.0, 0.2583512178077425, 0.0, 0.0, 0.0, 0.0, 0.0, nan, 0.0, 0.0, 0.0, 0.0, 0.0, 0.0, 0.0, 0.2583512178077425, 0.0, 0.2583512178077425, 0.0, 0.0, 0.0, 0.0, 0.0, 0.0, 0.0, 0.0, 0.0, 0.0, 0.0, 0.0, nan, 0.0, 0.0, 0.0, 0.0, 0.0, 0.0, nan, 0.0, 0.0, 0.0, 0.0, 0.0, 0.0, 0.0, 0.0, 0.0, 0.0, 0.0, 0.0, 0.0, 0.0, 0.0, 0.0, 0.0, 0.0, 0.0, 0.0, 0.0, 0.0, 0.0, 0.0, 0.0, 0.0, nan, 0.0, 0.0, 0.0, 0.0, 0.0, 0.0, 0.0, 0.0, 0.0, 0.0, 0.0, 0.0, nan, 0.0]}\n"
     ]
    }
   ],
   "source": [
    "qc_file_path = os.path.join(base_folder, 'quality_metrics.csv')\n",
    "\n",
    "try:\n",
    "    # 读取 CSV 文件\n",
    "    metrics_df = pd.read_csv(qc_file_path)\n",
    "\n",
    "    # 打印读取的数据\n",
    "    print(\"读取到的数据：\")\n",
    "    print(metrics_df)\n",
    "\n",
    "    # 如果你需要将数据转换为字典格式，类似于之前打印的 metrics 变量\n",
    "    metrics = metrics_df.to_dict(orient='list')\n",
    "    print(\"转换为字典格式的数据：\")\n",
    "    print(metrics)\n",
    "except FileNotFoundError:\n",
    "    print(f\"未找到文件：{qc_file_path}，请检查文件路径是否正确。\")"
   ]
  },
  {
   "cell_type": "code",
   "execution_count": 12,
   "metadata": {
    "ExecuteTime": {
     "end_time": "2025-03-28T21:24:53.290310Z",
     "start_time": "2025-03-28T21:24:53.260410Z"
    },
    "collapsed": false,
    "pycharm": {
     "is_executing": true
    }
   },
   "outputs": [
    {
     "name": "stdout",
     "output_type": "stream",
     "text": [
      "满足条件的神经元 ID：\n",
      "[1, 2, 8, 12, 13, 14, 15, 19, 22, 25, 26, 28, 32, 33, 40, 43, 44, 45, 47, 52, 63, 64, 65, 66, 68, 70, 74, 76, 77, 78, 79, 80, 81, 82, 83, 86, 95, 97, 101, 103, 108, 109, 112, 115, 116, 118, 119, 120, 126, 127, 129, 130, 131, 142, 143, 144, 145, 146, 162, 165, 166, 168, 169, 173, 177, 182]\n",
      "满足条件的神经元数量： 66\n",
      "筛选后的数据已保存到 'filtered_quality_metrics.csv'\n"
     ]
    }
   ],
   "source": [
    "# 筛选满足条件的神经元\n",
    "filtered_neurons = metrics_df[\n",
    "    (metrics_df['isi_violations_ratio'] < isi_th) & (metrics_df['snr'] > snr_th)\n",
    "]\n",
    "\n",
    "# 提取筛选后的神经元 ID\n",
    "filtered_neuro_ids = filtered_neurons['cluster_id'].tolist()\n",
    "\n",
    "# 打印结果\n",
    "print(\"满足条件的神经元 ID：\")\n",
    "print(filtered_neuro_ids)\n",
    "print(\"满足条件的神经元数量：\", len(filtered_neuro_ids))\n",
    "\n",
    "# 如果需要保存筛选后的结果到新的 CSV 文件\n",
    "filtered_neurons.to_csv(os.path.join(base_folder,'filtered_quality_metrics.csv'),index=False)\n",
    "print(\"筛选后的数据已保存到 'filtered_quality_metrics.csv'\")"
   ]
  },
  {
   "cell_type": "markdown",
   "metadata": {
    "collapsed": false
   },
   "source": []
  },
  {
   "cell_type": "markdown",
   "metadata": {
    "collapsed": false
   },
   "source": [
    "## Manual calculate sis_violations\n",
    "ref  [UMS] https://github.com/danamics/UMS2K/blob/master/quality_measures/rpv_contamination.m."
   ]
  },
  {
   "cell_type": "markdown",
   "metadata": {
    "collapsed": false
   },
   "source": [
    "In this method the number of spikes whose refractory period are violated, denoted \\(n_v\\), is used.\n",
    "Here, the refactory period \\(t_r\\) is adjusted to take account of the data recording system’s minimum possible refactory period. E.g. if a system has a sampling rate of \\(f \\text{ Hz}\\), the closest that two spikes from the same unit can possibly be is \\(1/f \\, \\text{s}\\). Hence the refactory period \\(t_r\\) is the expected biological threshold minus this minimum possible threshold.\n",
    "\n",
    "The contamination rate is calculated to be\n",
    "\n",
    "[C = \\frac{ n_v T }{ 2 N^2 t_r }\\]"
   ]
  },
  {
   "cell_type": "code",
   "execution_count": null,
   "metadata": {
    "ExecuteTime": {
     "end_time": "2025-03-28T21:24:53.429837Z",
     "start_time": "2025-03-28T21:24:53.275360Z"
    },
    "collapsed": false,
    "pycharm": {
     "is_executing": true
    }
   },
   "outputs": [],
   "source": [
    "\n",
    "m_quality_metrics = []\n",
    "m_quality_metrics.append(['neuro_ids', 'isi_violation','snr'])\n",
    "\n",
    "\n",
    "biological_t_r = 0.0015    #### 生物学的限制，IBL和spikeinterface使用1.5ms\n",
    "min_possible_t_r = 0       #### 系统限制采样，IBL和spikeinterface使用0ms，其实应该是1/sampling_rate\n",
    "t_r = biological_t_r - min_possible_t_r  # 调整后的不应期\n",
    "\n",
    "for unit_id in unit_ids:\n",
    "    spike_train = sorting_info.get_unit_spike_train(unit_id)\n",
    "\n",
    "    spike_train_s = spike_train / sampling_rate\n",
    "    n_v = np.sum(np.diff(spike_train_s) < t_r)\n",
    "\n",
    "    T = spike_train_s[-1] - spike_train_s[0]\n",
    "    N = len(spike_train_s)\n",
    "    C = (n_v * T) / (2 * N**2 * t_r)\n",
    "\n",
    "    m_quality_metrics.append([unit_id, C])\n",
    "    print(f\"Unit {unit_id}: ISI violations contamination rate = {C:.4f}\")\n",
    "# print(m_quality_metrics)"
   ]
  },
  {
   "cell_type": "markdown",
   "metadata": {
    "collapsed": false
   },
   "source": [
    "## Manual calculate Signal-to-noise ratio\n",
    "ref https://allensdk.readthedocs.io/en/latest/_static/examples/nb/ecephys_quality_metrics.html#SNR\n",
    "ref Quantitative assessment of extracellular multichannel recording quality using measures of cluster separation. Society of Neuroscience Abstract. 2005.\n",
    "ref Methods for neuronal recording in conscious animals. IBRO Handbook Series. 1984.\n",
    "\n",
    "Calculation¶\n",
    "Aμs: maximum amplitude of the mean spike waverform (on the best channel).\n",
    "бb: standard deviation of the background noise on the same channel (usually computed via the median absolute deviation).\n",
    "SNR = Aμs/бb"
   ]
  }
 ],
 "metadata": {
  "kernelspec": {
   "display_name": "si",
   "language": "python",
   "name": "python3"
  },
  "language_info": {
   "codemirror_mode": {
    "name": "ipython",
    "version": 3
   },
   "file_extension": ".py",
   "mimetype": "text/x-python",
   "name": "python",
   "nbconvert_exporter": "python",
   "pygments_lexer": "ipython3",
   "version": "3.11.11"
  }
 },
 "nbformat": 4,
 "nbformat_minor": 0
}
