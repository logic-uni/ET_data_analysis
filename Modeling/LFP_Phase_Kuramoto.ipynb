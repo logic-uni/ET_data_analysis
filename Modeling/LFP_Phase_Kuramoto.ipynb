{
 "cells": [
  {
   "cell_type": "markdown",
   "id": "9ca4b5df",
   "metadata": {},
   "source": [
    "# Local Field Potential Analysis\n",
    "This notebook performs the following steps on LFP data:\n",
    "1. Filter out 50Hz, 100Hz, and harmonic AC power frequency interference.\n",
    "2. Use the Hilbert transform to calculate the instantaneous phase for each channel.\n",
    "3. Perform FFT to find the maximum frequency in the frequency domain for each channel.\n",
    "4. Simulate the Kuramoto model using the instantaneous phase and maximum frequency.\n",
    "5. Calculate and plot the order parameter over time."
   ]
  },
  {
   "cell_type": "code",
   "execution_count": 2,
   "id": "a9ab607f",
   "metadata": {},
   "outputs": [],
   "source": [
    "# Import Required Libraries\n",
    "import numpy as np\n",
    "import pandas as pd\n",
    "from scipy.signal import butter, filtfilt, hilbert\n",
    "from scipy.fft import fft, fftfreq\n",
    "import matplotlib.pyplot as plt"
   ]
  },
  {
   "cell_type": "markdown",
   "id": "c68a4ead",
   "metadata": {},
   "source": [
    "## Load LFP Data\n",
    "Load the LFP data from a CSV file. Each row represents a channel time series."
   ]
  },
  {
   "cell_type": "code",
   "execution_count": 3,
   "id": "4d400274",
   "metadata": {},
   "outputs": [
    {
     "name": "stdout",
     "output_type": "stream",
     "text": [
      "LFP data loaded with 78 channels and 6367340 samples.\n"
     ]
    }
   ],
   "source": [
    "# Load LFP data\n",
    "sampling_rate = 2500  # Hz\n",
    "lfp_path = \"/data1/zhangyuhao/xinchao_data/NP1/20230623_Syt2_conditional_tremor_mice4/LFP/Medial vestibular nucleus_202300622_Syt2_512_2_Day18_P79_g0_t0.exported.imec0.lf.csv\"\n",
    "lfp_data = pd.read_csv(lfp_path, header=None).values\n",
    "lfp_data = lfp_data.T\n",
    "num_channels, num_samples = lfp_data.shape\n",
    "print(f'LFP data loaded with {num_channels} channels and {num_samples} samples.')"
   ]
  },
  {
   "cell_type": "markdown",
   "id": "ed6f17e5",
   "metadata": {},
   "source": [
    "# bandpass filter"
   ]
  },
  {
   "cell_type": "code",
   "execution_count": 7,
   "id": "64a302bf",
   "metadata": {},
   "outputs": [],
   "source": [
    "def bandpass_filter(data, lowcut, highcut, fs, order=5):\n",
    "    \"\"\"带通滤波器\"\"\"\n",
    "    nyq = 0.5 * fs\n",
    "    low = lowcut / nyq\n",
    "    high = highcut / nyq\n",
    "    b, a = butter(order, [low, high], btype='band')\n",
    "    filtered = filtfilt(b, a, data)\n",
    "    return filtered\n",
    "\n",
    "# 对每个通道进行带通滤波（例如1.5-50Hz）\n",
    "filtered_signals = np.array([bandpass_filter(sig, 1.5, 50, 1000) for sig in lfp_data])"
   ]
  },
  {
   "cell_type": "markdown",
   "id": "bb485b87",
   "metadata": {},
   "source": [
    "## Filter AC Power Frequency Interference\n",
    "Apply a notch filter to remove 50Hz, 100Hz, and harmonic frequencies."
   ]
  },
  {
   "cell_type": "code",
   "execution_count": 4,
   "id": "4fd1bec4",
   "metadata": {},
   "outputs": [],
   "source": [
    "# Define a notch filter\n",
    "def notch_filter(data, freq, fs):\n",
    "    nyquist = 0.5 * fs\n",
    "    low = (freq - 1) / nyquist\n",
    "    high = (freq + 1) / nyquist\n",
    "    b, a = butter(2, [low, high], btype='bandstop')\n",
    "    return filtfilt(b, a, data)\n",
    "\n",
    "# Apply the filter for 50Hz, 100Hz, and harmonics\n",
    "filtered_data = lfp_data.copy()\n",
    "for freq in [50, 100, 150, 200]:\n",
    "    for ch in range(num_channels):\n",
    "        filtered_data[ch, :] = notch_filter(filtered_data[ch, :], freq, sampling_rate)"
   ]
  },
  {
   "cell_type": "markdown",
   "id": "27c1c22f",
   "metadata": {},
   "source": [
    "## Hilbert Transform for Instantaneous Phase\n",
    "Use the Hilbert transform to calculate the instantaneous phase for each channel."
   ]
  },
  {
   "cell_type": "code",
   "execution_count": 8,
   "id": "835d205e",
   "metadata": {},
   "outputs": [],
   "source": [
    "# Calculate instantaneous phase using Hilbert transform\n",
    "instantaneous_phase = np.angle(hilbert(filtered_data, axis=1))"
   ]
  },
  {
   "cell_type": "markdown",
   "id": "170ee2bc",
   "metadata": {},
   "source": [
    "## FFT for Maximum Frequency\n",
    "Perform FFT to find the frequency corresponding to the maximum amplitude in the frequency domain for each channel."
   ]
  },
  {
   "cell_type": "code",
   "execution_count": 9,
   "id": "c4ade7a7",
   "metadata": {},
   "outputs": [],
   "source": [
    "def extract_natural_frequencies(signals, fs):\n",
    "    \"\"\"通过FFT提取主导频率\"\"\"\n",
    "    freqs = []\n",
    "    for sig in signals:\n",
    "        n = len(sig)\n",
    "        y = fft(sig)\n",
    "        xf = fftfreq(n, 1/fs)[:n//2]\n",
    "        idx = np.argmax(np.abs(y[:n//2]))\n",
    "        freqs.append(xf[idx])\n",
    "    return np.array(freqs)\n",
    "\n",
    "frequencies = extract_natural_frequencies(filtered_data, fs=sampling_rate)"
   ]
  },
  {
   "cell_type": "markdown",
   "id": "f84b8cab",
   "metadata": {},
   "source": [
    "## Simulate Kuramoto Model\n",
    "Simulate the Kuramoto model using the instantaneous phase and maximum frequency."
   ]
  },
  {
   "cell_type": "code",
   "execution_count": null,
   "id": "5f7c54dc",
   "metadata": {},
   "outputs": [],
   "source": [
    "# Simulate Kuramoto model\n",
    "def kuramoto_model(phases, frequencies, coupling, dt, steps):\n",
    "    num_oscillators = len(phases)\n",
    "    phase_history = np.zeros((steps, num_oscillators))\n",
    "    for t in range(steps):\n",
    "        phase_history[t, :] = phases\n",
    "        for i in range(num_oscillators):\n",
    "            interaction = np.sum(np.sin(phases - phases[i]))\n",
    "            phases[i] += dt * (frequencies[i] + coupling * interaction / num_oscillators)\n",
    "    return phase_history\n",
    "\n",
    "# Initialize parameters\n",
    "coupling_strength = 0.1\n",
    "time_step = 0.01\n",
    "num_steps = 1000\n",
    "kuramoto_phases = instantaneous_phase[:, 0]\n",
    "\n",
    "# Run simulation\n",
    "phase_dynamics = kuramoto_model(kuramoto_phases, frequencies, coupling_strength, time_step, num_steps)"
   ]
  },
  {
   "cell_type": "markdown",
   "id": "86d0f1f9",
   "metadata": {},
   "source": [
    "## Calculate and Plot Order Parameter\n",
    "Calculate the order parameter and plot its dynamics over time."
   ]
  },
  {
   "cell_type": "code",
   "execution_count": null,
   "id": "db08d3ec",
   "metadata": {},
   "outputs": [],
   "source": [
    "# Calculate order parameter\n",
    "order_parameter = np.abs(np.mean(np.exp(1j * phase_dynamics), axis=1))\n",
    "\n",
    "# Plot order parameter dynamics\n",
    "plt.figure(figsize=(10, 6))\n",
    "plt.plot(np.arange(num_steps) * time_step, order_parameter)\n",
    "plt.xlabel('Time (s)')\n",
    "plt.ylabel('Order Parameter')\n",
    "plt.title('Order Parameter Dynamics')\n",
    "plt.grid()\n",
    "plt.show()"
   ]
  }
 ],
 "metadata": {
  "kernelspec": {
   "display_name": "ET",
   "language": "python",
   "name": "python3"
  },
  "language_info": {
   "codemirror_mode": {
    "name": "ipython",
    "version": 3
   },
   "file_extension": ".py",
   "mimetype": "text/x-python",
   "name": "python",
   "nbconvert_exporter": "python",
   "pygments_lexer": "ipython3",
   "version": "3.8.20"
  }
 },
 "nbformat": 4,
 "nbformat_minor": 5
}
