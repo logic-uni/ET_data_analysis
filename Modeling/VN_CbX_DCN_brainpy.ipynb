{
 "cells": [
  {
   "cell_type": "markdown",
   "id": "78bed409",
   "metadata": {},
   "source": [
    "# Phenomenological Synaptic Models"
   ]
  },
  {
   "cell_type": "code",
   "execution_count": null,
   "id": "4524939e",
   "metadata": {
    "ExecuteTime": {
     "end_time": "2023-08-25T15:47:40.737370800Z",
     "start_time": "2023-08-25T15:47:40.488362600Z"
    }
   },
   "outputs": [],
   "source": [
    "%reset -f\n",
    "import numpy as np\n",
    "import brainpy as bp\n",
    "import brainpy.math as bm\n",
    "import matplotlib.pyplot as plt"
   ]
  },
  {
   "cell_type": "markdown",
   "id": "4985ff0fd086a05a",
   "metadata": {
    "collapsed": false
   },
   "source": [
    "### COBA"
   ]
  },
  {
   "cell_type": "markdown",
   "id": "1d4a7b11654a56b7",
   "metadata": {
    "collapsed": false
   },
   "source": [
    "Given the synaptic conductance, the COBA model outputs the post-synaptic current with\n",
    "\n",
    "$$\n",
    "I_{syn}(t) = g_{\\mathrm{syn}}(t) (E - V(t))\n",
    "$$\n"
   ]
  },
  {
   "cell_type": "markdown",
   "id": "50b9bcfa67818168",
   "metadata": {
    "collapsed": false
   },
   "source": [
    "### CUBA"
   ]
  },
  {
   "cell_type": "markdown",
   "id": "9335f60fabfd8d7a",
   "metadata": {
    "collapsed": false
   },
   "source": [
    "Given the conductance, this model outputs the post-synaptic current with a identity function:\n",
    "\n",
    "$$\n",
    "I_{\\mathrm{syn}}(t) = g_{\\mathrm{syn}}(t)\n",
    "$$"
   ]
  },
  {
   "cell_type": "markdown",
   "id": "7c8208fba8bb0f22",
   "metadata": {
    "ExecuteTime": {
     "end_time": "2023-08-25T12:41:36.348920Z",
     "start_time": "2023-08-25T12:41:36.250301200Z"
    },
    "collapsed": false
   },
   "source": [
    "## ``brainpy.dyn.ProjAlignPreMg2``\n",
    "\n",
    "Synaptic projection which defines the synaptic computation with the dimension of presynaptic neuron group.\n",
    "\n",
    "\n",
    "```\n",
    "brainpy.dyn.ProjAlignPreMg2(\n",
    "   pre, \n",
    "   delay,\n",
    "   syn,  \n",
    "   comm, \n",
    "   out, \n",
    "   post\n",
    ")\n",
    "```\n",
    "\n",
    "- ``pre (JointType[DynamicalSystem, AutoDelaySupp])``: The pre-synaptic neuron group.\n",
    "- ``delay (Union[None, int, float])``: The synaptic delay.\n",
    "- ``syn (ParamDescInit)``: The synaptic dynamics.\n",
    "- ``comm (DynamicalSystem)``: The synaptic communication.\n",
    "- ``out (ParamDescInit)``: The synaptic output.\n",
    "- ``post (DynamicalSystem)`` The post-synaptic neuron group.\n",
    "\n",
    "\n",
    "![](figs/align_pre.png)\n"
   ]
  },
  {
   "cell_type": "markdown",
   "id": "05913bc2",
   "metadata": {
    "ExecuteTime": {
     "end_time": "2023-08-25T12:41:39.826419400Z",
     "start_time": "2023-08-25T12:41:38.204966Z"
    }
   },
   "source": [
    "## Dual Exponential Model"
   ]
  },
  {
   "cell_type": "markdown",
   "id": "26418937",
   "metadata": {},
   "source": [
    "The dual exponential synapse model, also named as *difference of two exponentials model*, is given by:\n",
    "\n",
    "$$\n",
    "g_{\\mathrm{syn}}(t)=\\bar{g}_{\\mathrm{syn}} \\frac{\\tau_{1} \\tau_{2}}{\\tau_{1}-\\tau_{2}}\\left(\\exp \\left(-\\frac{t-t_{0}}{\\tau_{1}}\\right)-\\exp \\left(-\\frac{t-t_{0}}{\\tau_{2}}\\right)\\right)\n",
    "$$\n",
    "\n",
    "where $\\tau_1$ is the time constant of the decay phase, $\\tau_2$ is the time constant of the rise phase, $t_0$ is the time of the pre-synaptic spike, $\\bar{g}_{\\mathrm{syn}}$ is the maximal conductance."
   ]
  },
  {
   "cell_type": "markdown",
   "id": "978009c1",
   "metadata": {},
   "source": [
    "The corresponding differential equation:\n",
    "\n",
    "$$\n",
    "\\begin{aligned}\n",
    "&g_{\\mathrm{syn}}(t)=\\bar{g}_{\\mathrm{syn}} g \\\\\n",
    "&\\frac{d g}{d t}=-\\frac{g}{\\tau_{\\mathrm{decay}}}+h \\\\\n",
    "&\\frac{d h}{d t}=-\\frac{h}{\\tau_{\\text {rise }}}+ \\delta\\left(t_{0}-t\\right),\n",
    "\\end{aligned}\n",
    "$$\n",
    "\n",
    "The alpha function is retrieved in the limit when both time constants are equal."
   ]
  },
  {
   "cell_type": "markdown",
   "id": "bc435eb5",
   "metadata": {},
   "source": [
    "# VN -> CbX"
   ]
  },
  {
   "cell_type": "code",
   "execution_count": null,
   "id": "f5a847b8",
   "metadata": {},
   "outputs": [],
   "source": [
    "duration = 0.5 # unit s\n",
    "fr = 5"
   ]
  },
  {
   "cell_type": "markdown",
   "id": "f40c1830",
   "metadata": {},
   "source": [
    "Synapse: Dual Exponential"
   ]
  },
  {
   "cell_type": "code",
   "execution_count": null,
   "id": "f0a53f9fe0abe92c",
   "metadata": {
    "ExecuteTime": {
     "end_time": "2023-08-25T15:47:45.284231500Z",
     "start_time": "2023-08-25T15:47:45.252470100Z"
    },
    "collapsed": false
   },
   "outputs": [],
   "source": [
    "class DualExpSparseCOBA(bp.Projection):\n",
    "  def __init__(self, pre, post, delay, prob, g_max, tau_decay, tau_rise, E):\n",
    "    super().__init__()\n",
    "    \n",
    "    self.proj = bp.dyn.ProjAlignPreMg2(\n",
    "      pre=pre, \n",
    "      delay=delay, \n",
    "      syn=bp.dyn.DualExpon.desc(pre.num, tau_decay=tau_decay, tau_rise=tau_rise),\n",
    "      comm=bp.dnn.CSRLinear(bp.conn.FixedProb(prob, pre=pre.num, post=post.num), g_max),\n",
    "      out=bp.dyn.COBA(E=E),\n",
    "      post=post, \n",
    "    )"
   ]
  },
  {
   "cell_type": "markdown",
   "id": "e407de19",
   "metadata": {},
   "source": [
    "Generate input spike times"
   ]
  },
  {
   "cell_type": "code",
   "execution_count": null,
   "id": "a381b60e",
   "metadata": {},
   "outputs": [],
   "source": [
    "def Poisson_sptrain():\n",
    "    n = np.random.poisson(fr * duration)  # 计算时间段T内的事件总数（泊松分布）\n",
    "    spike_times = np.sort(np.random.uniform(0, duration, n))  # 在[0,T]内均匀生成n个事件时间点并排序\n",
    "    spike_times = spike_times * 1000  # unit ms\n",
    "    isi = np.diff(spike_times)  # 计算事件间隔时间（Inter-Spike Interval）unit ms\n",
    "    return spike_times, isi  # 返回事件时间序列和间隔序列"
   ]
  },
  {
   "cell_type": "markdown",
   "id": "0d7d6445",
   "metadata": {},
   "source": [
    "Connection: SpTrain -> Synapse -> LIF"
   ]
  },
  {
   "cell_type": "code",
   "execution_count": null,
   "id": "34fb1dc1ac1c60c0",
   "metadata": {
    "ExecuteTime": {
     "end_time": "2023-08-25T15:47:45.284231500Z",
     "start_time": "2023-08-25T15:47:45.268561400Z"
    },
    "collapsed": false
   },
   "outputs": [],
   "source": [
    "class VN_CbX_Net(bp.DynSysGroup):\n",
    "  def __init__(self, sptimes, E=0.):\n",
    "    super().__init__()\n",
    "    \n",
    "    #self.pre = bp.dyn.SpikeTimeGroup(1, indices=(0, 0), times=(0., 100.))  # single spike input\n",
    "    self.pre = bp.dyn.SpikeTimeGroup(1, times=sptimes, indices=[0] * len(sptimes))  # spike train input\n",
    "    self.post = bp.dyn.LifRef(1, V_rest=-60., V_th=-50., V_reset=-60., tau=20., tau_ref=5.,\n",
    "                              V_initializer=bp.init.Constant(-60.))\n",
    "    '''\n",
    "    # 默认 normal\n",
    "    self.syn = DualExpSparseCOBA(self.pre, self.post, delay=None, prob=1., g_max=1., \n",
    "                                 tau_decay=5., tau_rise=1., E=E)  \n",
    "    \n",
    "    # Syt2 KO 上升更慢  衰减也更慢（囊泡释放更慢）  峰值更低(囊泡释放更少)\n",
    "    # V1 gmax' = 1/10gmax = 0.1, V2 gmax' = 0.2, V3 gmax' = 0.3\n",
    "    self.syn = DualExpSparseCOBA(self.pre, self.post, delay=None, prob=1., \n",
    "                                tau_rise=12., tau_decay=20., g_max=0.1, E=E)  # \n",
    "    '''\n",
    "    # junqiang parameters 会让postV产生波形抖动，符合patch结果\n",
    "    self.syn = DualExpSparseCOBA(self.pre, self.post, delay=None, prob=1., \n",
    "                                tau_rise=20., tau_decay=0.5, g_max=0.8, E=E)\n",
    "    \n",
    "    # Syt2 overexpression 上升更快  衰减也更快（囊泡释放更快）  峰值更高(囊泡释放增加)\n",
    "    #self.syn = DualExpSparseCOBA(self.pre, self.post, delay=None, prob=1., \n",
    "                                #tau_rise=0.5, tau_decay=3., g_max=1.7, E=E)   \n",
    "    \n",
    "  def update(self):\n",
    "    self.pre()\n",
    "    self.syn()\n",
    "    self.post()\n",
    "    \n",
    "    # monitor the following variables\n",
    "    conductance = self.syn.proj.refs['syn'].g\n",
    "    current = self.post.sum_inputs(self.post.V)\n",
    "    return conductance, current, self.post.V"
   ]
  },
  {
   "cell_type": "code",
   "execution_count": null,
   "id": "b3cb24af",
   "metadata": {},
   "outputs": [],
   "source": [
    "def run_a_net_plot(net):\n",
    "  indices = np.arange(10000) # for single spike 500ms\n",
    "  indices = np.arange(duration*10000)   # for spike train\n",
    "  conductances, currents, potentials = bm.for_loop(net.step_run, indices, progress_bar=True)\n",
    "  ts = indices * bm.get_dt()\n",
    "  \n",
    "  # --- similar to: \n",
    "  # runner = bp.DSRunner(net)\n",
    "  # conductances, currents, potentials = runner.run(100.)\n",
    "  \n",
    "  fig, gs = bp.visualize.get_figure(1, 3, 3.5, 4)\n",
    "  fig.add_subplot(gs[0, 0])\n",
    "  plt.plot(ts, conductances)\n",
    "  plt.title('Syn conductance')\n",
    "  fig.add_subplot(gs[0, 1])\n",
    "  plt.plot(ts, currents)\n",
    "  plt.title('Syn current')\n",
    "  fig.add_subplot(gs[0, 2])\n",
    "  plt.plot(ts, potentials)\n",
    "  plt.title('Post V')\n",
    "  plt.show()\n",
    "  return potentials"
   ]
  },
  {
   "cell_type": "code",
   "execution_count": null,
   "id": "4bb82945",
   "metadata": {},
   "outputs": [],
   "source": [
    "def run_a_net(net):\n",
    "  indices = np.arange(duration*10000)   # for spike train\n",
    "  conductances, currents, potentials = bm.for_loop(net.step_run, indices, progress_bar=True)\n",
    "  ts = indices * bm.get_dt()\n",
    "  return potentials"
   ]
  },
  {
   "cell_type": "code",
   "execution_count": null,
   "id": "035a88c1",
   "metadata": {},
   "outputs": [],
   "source": [
    "def find_trig_spike_time(arr):\n",
    "    #找到所有满足前值 > -50.8 且后值 = -60 的连续元素对\n",
    "    mask = (arr[:-1] > -50.8) & (arr[1:] == -60) # 通过切片操作，隐式比较了每一对相邻元素\n",
    "    indices = np.where(mask)[0] / 10  # 换算为ms\n",
    "    return indices\n",
    "\n",
    "def plot_isi(isi,name,cutoff_distr):\n",
    "    isi = isi[(isi > 0.001) & (isi <= cutoff_distr)]\n",
    "    plt.figure(figsize=(10, 4))\n",
    "    plt.hist(isi, bins=100, color='dodgerblue', alpha=0.7)\n",
    "    plt.xlabel('Inter-spike Interval (ms)')\n",
    "    plt.ylabel('Counts')\n",
    "    plt.title(f'{name} ISI Distribution')\n",
    "    plt.grid(True)\n",
    "    plt.tight_layout()\n",
    "    plt.show()"
   ]
  },
  {
   "cell_type": "markdown",
   "id": "7b59def4f243e542",
   "metadata": {
    "ExecuteTime": {
     "end_time": "2023-08-25T12:41:45.249488500Z",
     "start_time": "2023-08-25T12:41:45.150193500Z"
    },
    "collapsed": false
   },
   "source": [
    "Syt2KO VN -> CbX Excitatory"
   ]
  },
  {
   "cell_type": "code",
   "execution_count": null,
   "id": "4b13228565c56df",
   "metadata": {
    "ExecuteTime": {
     "end_time": "2023-08-25T15:47:46.491566600Z",
     "start_time": "2023-08-25T15:47:45.284231500Z"
    },
    "collapsed": false
   },
   "outputs": [],
   "source": [
    "VN_sptimes, VN_isi = Poisson_sptrain()  # input_sptimes unit ms\n",
    "CbX_PostV = run_a_net_plot(VN_CbX_Net(sptimes = VN_sptimes, E=0.))  # Excitatory DualExpon synapse model\n",
    "CbX_PostV_value = CbX_PostV.value  # 获取 Array 对象\n",
    "CbX_PostV_flat = CbX_PostV_value.flatten()  # 平铺成一维数组\n",
    "np.set_printoptions(threshold=np.inf)\n",
    "\n",
    "CbX_sptimes = find_trig_spike_time(CbX_PostV_flat)  # unit ms\n",
    "CbX_isi = np.diff(CbX_sptimes)"
   ]
  },
  {
   "cell_type": "code",
   "execution_count": null,
   "id": "22445f99",
   "metadata": {},
   "outputs": [],
   "source": [
    "plt.figure(figsize=(45, 2))\n",
    "plt.eventplot([VN_sptimes, CbX_sptimes], colors=['b', 'r'], lineoffsets=[2, 1], linelengths=0.8)\n",
    "plt.yticks([1, 2], ['CbX', 'VN'])\n",
    "plt.xlabel('Time (ms)')\n",
    "plt.title('Raster Plot of Input and Output Spike Times')\n",
    "plt.tight_layout()\n",
    "plt.savefig('/home/zhangyuhao/Desktop/Result/ET/Modeling/Raster.png', transparent=True, dpi=500)"
   ]
  },
  {
   "cell_type": "code",
   "execution_count": null,
   "id": "2050c620",
   "metadata": {},
   "outputs": [],
   "source": [
    "plot_isi(VN_isi,'input',100)\n",
    "plot_isi(CbX_isi,'output',100)  #尽量让这个分布密度密一些，峰值更大一些，峰更靠右一些"
   ]
  },
  {
   "cell_type": "markdown",
   "id": "dfb07772",
   "metadata": {},
   "source": [
    "# CbX -> DCN"
   ]
  },
  {
   "cell_type": "markdown",
   "id": "df584730",
   "metadata": {},
   "source": [
    "create three neurons with renewal process ISI <br>\n",
    "A single neuron in the deep cerebellar nuclei (DCN) receives input from a population of approximately 40 Purkinje cells (Kathellen Cullen)<br>\n",
    "A single PC is estimated to innervate approximately 30–40 DCN neurons and in turn, each DCN neuron, receives projections from about 600–900 PC (Chan-Palay, 1973a ; Mezey et al., 1977 ; Palkovits et al., 1977 ) <br>但并不是所有的PC都会发放"
   ]
  },
  {
   "cell_type": "markdown",
   "id": "56b4b51d",
   "metadata": {},
   "source": [
    "循环生成15个VN->CbX Syt2KO神经元的spike train 循环生成5个正常神经元的spike train"
   ]
  },
  {
   "cell_type": "code",
   "execution_count": null,
   "id": "b0a20307",
   "metadata": {},
   "outputs": [],
   "source": [
    "syt2ko_num = 15  # synchrony neuron number syt2ko\n",
    "normal_num = 5   # synchrony neuron number 正常神经元 \n",
    "neuron_num = syt2ko_num + normal_num\n",
    "\n",
    "# 初始化存放所有发放事件的列表\n",
    "all_events = []  # 格式：(spike_time, neuron_id)\n",
    "\n",
    "# 生成syt2ko神经元的发放事件\n",
    "for i in range(syt2ko_num):\n",
    "    VN_sptimes, _ = Poisson_sptrain()  # 忽略ISI数据\n",
    "    CbX_PostV = run_a_net(VN_CbX_Net(sptimes = VN_sptimes, E=0.))\n",
    "    CbX_PostV_value = CbX_PostV.value  # 获取 Array 对象\n",
    "    CbX_PostV_flat = CbX_PostV_value.flatten()  # 平铺成一维数组\n",
    "    CbX_Syt2ko_sptimes = find_trig_spike_time(CbX_PostV_flat)  # unit ms\n",
    "\n",
    "    # 为当前神经元的每个发放时间添加事件\n",
    "    for t in CbX_Syt2ko_sptimes:\n",
    "        all_events.append((t, i))  # 记录(时间, 神经元ID)\n",
    "\n",
    "# 生成正常神经元的发放事件\n",
    "for j in range(normal_num):\n",
    "    CbX_normal_sptimes, _ = Poisson_sptrain()  # 忽略ISI数据\n",
    "    neuron_id = j + syt2ko_num  \n",
    "    \n",
    "    # 为当前神经元的每个发放时间添加事件\n",
    "    for t in CbX_normal_sptimes:\n",
    "        all_events.append((t, neuron_id))\n",
    "\n",
    "# 按发放时间排序\n",
    "all_events.sort(key=lambda x: x[0])  # 根据spike_time排序\n",
    "\n",
    "# 提取排序后的发放时间和对应神经元ID\n",
    "spike_times = [event[0] for event in all_events]\n",
    "spike_cluster = [event[1] for event in all_events]"
   ]
  },
  {
   "cell_type": "markdown",
   "id": "8b0e07e7",
   "metadata": {},
   "source": [
    "output to LIF"
   ]
  },
  {
   "cell_type": "code",
   "execution_count": null,
   "id": "d9096449",
   "metadata": {},
   "outputs": [],
   "source": [
    "class CbX_DCN_Net(bp.DynSysGroup):\n",
    "  def __init__(self, E=0.):\n",
    "    super().__init__()\n",
    "    # times is spike times of each spike, indices is unit id of each spike\n",
    "    self.pre = bp.dyn.SpikeTimeGroup(neuron_num, times=spike_times, indices=spike_cluster)  # spike train input\n",
    "    self.post = bp.dyn.LifRef(1, V_rest=-60., V_th=-50., V_reset=-60., tau=20., tau_ref=5.,\n",
    "                              V_initializer=bp.init.Constant(-60.))\n",
    "\n",
    "    self.syn = DualExpSparseCOBA(self.pre, self.post, delay=None, prob=1., g_max=1., \n",
    "                                 tau_decay=5., tau_rise=1., E=E)             \n",
    "    \n",
    "  def update(self):\n",
    "    self.pre()\n",
    "    self.syn()\n",
    "    self.post()\n",
    "    \n",
    "    # monitor the following variables\n",
    "    conductance = self.syn.proj.refs['syn'].g\n",
    "    current = self.post.sum_inputs(self.post.V)\n",
    "    return conductance, current, self.post.V"
   ]
  },
  {
   "cell_type": "markdown",
   "id": "f1a5813f",
   "metadata": {},
   "source": [
    "all neurons projecting from the cerebellar cortex to the deep cerebellar nuclei are inhibitory neurons"
   ]
  },
  {
   "cell_type": "code",
   "execution_count": null,
   "id": "adeeace2",
   "metadata": {},
   "outputs": [],
   "source": [
    "DCN_PostV = run_a_net(CbX_DCN_Net(E=-35.))\n",
    "DCN_PostV_value = DCN_PostV.value  # 获取 Array 对象\n",
    "DCN_PostV_flat = DCN_PostV_value.flatten()  # 平铺成一维数组\n",
    "DCN_sptimes = find_trig_spike_time(DCN_PostV_flat)  # unit ms\n",
    "DCN_isi = np.diff(DCN_sptimes)"
   ]
  },
  {
   "cell_type": "code",
   "execution_count": null,
   "id": "5bb624e2",
   "metadata": {},
   "outputs": [],
   "source": [
    "plt.figure(figsize=(100, 2))\n",
    "plt.eventplot([CbX_sptimes, DCN_sptimes], colors=['b', 'r'], lineoffsets=[2, 1], linelengths=0.8)\n",
    "plt.yticks([1, 2], ['DCN', 'CbXSyt2ko'])\n",
    "plt.xlabel('Time (ms)')\n",
    "plt.title('Raster Plot of Input and Output Spike Times')\n",
    "plt.tight_layout()"
   ]
  },
  {
   "cell_type": "code",
   "execution_count": null,
   "id": "46ec6600",
   "metadata": {},
   "outputs": [],
   "source": [
    "plot_isi(CbX_isi,'CbX')\n",
    "plot_isi(DCN_isi,'DCN')"
   ]
  },
  {
   "cell_type": "markdown",
   "id": "d4e00717",
   "metadata": {},
   "source": [
    "# DCN inner network"
   ]
  },
  {
   "cell_type": "code",
   "execution_count": null,
   "id": "7f70d427",
   "metadata": {},
   "outputs": [],
   "source": [
    "DCN_inner_neunum = 3\n",
    "DCN_inner_sptimes = np.repeat(output_sptimes2, DCN_inner_neunum)\n",
    "DCN_inner_indices = list(range(DCN_inner_neunum)) * len(output_sptimes2)"
   ]
  },
  {
   "cell_type": "code",
   "execution_count": null,
   "id": "a9f4a5eb",
   "metadata": {},
   "outputs": [],
   "source": [
    "class SimpleNet6(bp.DynSysGroup):\n",
    "  def __init__(self, E=0.):\n",
    "    super().__init__()\n",
    "    \n",
    "    self.pre = bp.dyn.SpikeTimeGroup(DCN_inner_neunum, times=DCN_inner_sptimes, indices=DCN_inner_indices)  # spike train input\n",
    "    self.post = bp.dyn.LifRef(1, V_rest=-60., V_th=-50., V_reset=-60., tau=20., tau_ref=5.,\n",
    "                              V_initializer=bp.init.Constant(-60.))\n",
    "\n",
    "    self.syn = DualExpSparseCOBA(self.pre, self.post, delay=None, prob=1., g_max=1., \n",
    "                                 tau_decay=5., tau_rise=1., E=E)  \n",
    "    \n",
    "  def update(self):\n",
    "    self.pre()\n",
    "    self.syn()\n",
    "    self.post()\n",
    "    \n",
    "    # monitor the following variables\n",
    "    conductance = self.syn.proj.refs['syn'].g\n",
    "    current = self.post.sum_inputs(self.post.V)\n",
    "    return conductance, current, self.post.V"
   ]
  },
  {
   "cell_type": "markdown",
   "id": "8dc1c111",
   "metadata": {},
   "source": [
    "Deep cerebellar nuclei (DCN) have projection neurons that contribute to the cerebellum's output <br>\n",
    "These projections can be both excitatory and inhibitory"
   ]
  },
  {
   "cell_type": "code",
   "execution_count": null,
   "id": "81f029de",
   "metadata": {},
   "outputs": [],
   "source": [
    "PostV3 = run_a_net(SimpleNet6(E=0.))\n",
    "value_array3 = PostV3.value  # 获取 Array 对象\n",
    "flattened_arr3 = value_array3.flatten()  # 平铺成一维数组\n",
    "np.set_printoptions(threshold=np.inf)\n",
    "\n",
    "output_sptimes3 = find_trig_spike_time(flattened_arr3)  # unit ms\n",
    "output_isi3 = np.diff(output_sptimes3)"
   ]
  },
  {
   "cell_type": "code",
   "execution_count": null,
   "id": "389c6304",
   "metadata": {},
   "outputs": [],
   "source": [
    "plt.figure(figsize=(60, 2))\n",
    "plt.eventplot([output_sptimes2, output_sptimes3], colors=['b', 'r'], lineoffsets=[2, 1], linelengths=0.8)\n",
    "plt.yticks([1, 2], ['Output', 'Input'])\n",
    "plt.xlabel('Time (ms)')\n",
    "plt.title('Raster Plot of Input and Output Spike Times')\n",
    "plt.tight_layout()\n",
    "plt.savefig('/home/zhangyuhao/Desktop/Result/ET/Modeling/Raster.png', transparent=True, dpi=500)"
   ]
  },
  {
   "cell_type": "code",
   "execution_count": null,
   "id": "068e2dc6",
   "metadata": {},
   "outputs": [],
   "source": [
    "cutoff_distr = 100\n",
    "def plot_isi(isi,name):\n",
    "    isi = isi[(isi > 0.001) & (isi <= cutoff_distr)]\n",
    "    plt.figure(figsize=(10, 4))\n",
    "    plt.hist(isi, bins=100, color='dodgerblue', alpha=0.7)\n",
    "    plt.xlabel('Inter-spike Interval (ms)')\n",
    "    plt.ylabel('Counts')\n",
    "    plt.title(f'{name} ISI Distribution')\n",
    "    plt.grid(True)\n",
    "    plt.tight_layout()\n",
    "    plt.show()\n",
    "\n",
    "plot_isi(output_isi2,'input')\n",
    "plot_isi(output_isi3,'output')"
   ]
  },
  {
   "cell_type": "markdown",
   "id": "3898e16b",
   "metadata": {},
   "source": [
    "## Problem of Phenomenological Synaptic Models"
   ]
  },
  {
   "cell_type": "markdown",
   "id": "9addd7f0",
   "metadata": {},
   "source": [
    "A significant limitation of the simple waveform description of synaptic conductance is that it does not capture the actual behavior seen at many synapses when trains of action potentials arrive. \n",
    "\n",
    "A new release of neurotransmitter soon after a previous release should not be expected to contribute as much to the postsynaptic conductance due to saturation of postsynaptic receptors by previously released transmitter and the fact that some receptors will already be open."
   ]
  },
  {
   "cell_type": "code",
   "execution_count": null,
   "id": "1ea986f1",
   "metadata": {
    "ExecuteTime": {
     "end_time": "2023-08-25T15:47:47.531229400Z",
     "start_time": "2023-08-25T15:47:47.507684700Z"
    }
   },
   "outputs": [],
   "source": [
    "class SimpleNet5(bp.DynSysGroup):\n",
    "  def __init__(self, freqs=10.):\n",
    "    super().__init__()\n",
    "    self.pre = bp.dyn.PoissonGroup(1, freqs=freqs)\n",
    "    self.post = bp.dyn.LifRef(1, V_rest=-60., V_th=-50., V_reset=-60., tau=20., tau_ref=5.,\n",
    "                              V_initializer=bp.init.Constant(-60.))\n",
    "    self.syn = DualExpSparseCOBA(self.pre, self.post, delay=None, prob=1., g_max=1., \n",
    "                                 tau_decay=5., tau_rise=1., E=0.)\n",
    "    \n",
    "  def update(self):\n",
    "    self.pre()\n",
    "    self.syn()\n",
    "    self.post()\n",
    "    return self.syn.proj.refs['syn'].g, self.post.V"
   ]
  },
  {
   "cell_type": "code",
   "execution_count": null,
   "id": "645c034414bc2093",
   "metadata": {
    "ExecuteTime": {
     "end_time": "2023-08-25T15:47:50.703697Z",
     "start_time": "2023-08-25T15:47:47.522115500Z"
    },
    "collapsed": false
   },
   "outputs": [],
   "source": [
    "def compare(freqs):\n",
    "  fig, _ = bp.visualize.get_figure(1, 1, 4.5, 6.)\n",
    "  for freq in freqs:\n",
    "    net = SimpleNet5(freqs=freq)\n",
    "    indices = np.arange(1000)  # 100 ms\n",
    "    conductances, potentials = bm.for_loop(net.step_run, indices, progress_bar=True)\n",
    "    plt.plot(indices * bm.get_dt(), conductances, label=f'{freq} Hz')\n",
    "  plt.legend()\n",
    "  plt.ylabel('g')\n",
    "  plt.show()\n",
    "\n",
    "\n",
    "compare([10., 100., 1000., 8000.])"
   ]
  }
 ],
 "metadata": {
  "kernelspec": {
   "display_name": "brainpy",
   "language": "python",
   "name": "python3"
  },
  "language_info": {
   "codemirror_mode": {
    "name": "ipython",
    "version": 3
   },
   "file_extension": ".py",
   "mimetype": "text/x-python",
   "name": "python",
   "nbconvert_exporter": "python",
   "pygments_lexer": "ipython3",
   "version": "3.11.11"
  },
  "latex_envs": {
   "LaTeX_envs_menu_present": true,
   "autoclose": false,
   "autocomplete": true,
   "bibliofile": "biblio.bib",
   "cite_by": "apalike",
   "current_citInitial": 1,
   "eqLabelWithNumbers": true,
   "eqNumInitial": 1,
   "hotkeys": {
    "equation": "Ctrl-E",
    "itemize": "Ctrl-I"
   },
   "labels_anchors": false,
   "latex_user_defs": false,
   "report_style_numbering": false,
   "user_envs_cfg": false
  },
  "toc": {
   "base_numbering": 1,
   "nav_menu": {},
   "number_sections": true,
   "sideBar": true,
   "skip_h1_title": false,
   "title_cell": "Table of Contents",
   "title_sidebar": "Contents",
   "toc_cell": false,
   "toc_position": {
    "height": "calc(100% - 180px)",
    "left": "10px",
    "top": "150px",
    "width": "243.07px"
   },
   "toc_section_display": true,
   "toc_window_display": true
  }
 },
 "nbformat": 4,
 "nbformat_minor": 5
}
