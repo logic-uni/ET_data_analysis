{
 "cells": [
  {
   "cell_type": "markdown",
   "id": "78bed409",
   "metadata": {},
   "source": [
    "# Phenomenological Synaptic Models"
   ]
  },
  {
   "cell_type": "code",
   "execution_count": 1,
   "id": "4524939e",
   "metadata": {
    "ExecuteTime": {
     "end_time": "2023-08-25T15:47:40.737370800Z",
     "start_time": "2023-08-25T15:47:40.488362600Z"
    }
   },
   "outputs": [
    {
     "name": "stderr",
     "output_type": "stream",
     "text": [
      "/home/zhangyuhao/miniconda3/envs/brainpy/lib/python3.11/site-packages/tqdm/auto.py:21: TqdmWarning: IProgress not found. Please update jupyter and ipywidgets. See https://ipywidgets.readthedocs.io/en/stable/user_install.html\n",
      "  from .autonotebook import tqdm as notebook_tqdm\n"
     ]
    }
   ],
   "source": [
    "%reset -f\n",
    "import numpy as np\n",
    "import brainpy as bp\n",
    "import brainpy.math as bm\n",
    "import matplotlib.pyplot as plt"
   ]
  },
  {
   "cell_type": "markdown",
   "id": "4985ff0fd086a05a",
   "metadata": {
    "collapsed": false
   },
   "source": [
    "### COBA"
   ]
  },
  {
   "cell_type": "markdown",
   "id": "1d4a7b11654a56b7",
   "metadata": {
    "collapsed": false
   },
   "source": [
    "Given the synaptic conductance, the COBA model outputs the post-synaptic current with\n",
    "\n",
    "$$\n",
    "I_{syn}(t) = g_{\\mathrm{syn}}(t) (E - V(t))\n",
    "$$\n"
   ]
  },
  {
   "cell_type": "markdown",
   "id": "50b9bcfa67818168",
   "metadata": {
    "collapsed": false
   },
   "source": [
    "### CUBA"
   ]
  },
  {
   "cell_type": "markdown",
   "id": "9335f60fabfd8d7a",
   "metadata": {
    "collapsed": false
   },
   "source": [
    "Given the conductance, this model outputs the post-synaptic current with a identity function:\n",
    "\n",
    "$$\n",
    "I_{\\mathrm{syn}}(t) = g_{\\mathrm{syn}}(t)\n",
    "$$"
   ]
  },
  {
   "cell_type": "markdown",
   "id": "7c8208fba8bb0f22",
   "metadata": {
    "ExecuteTime": {
     "end_time": "2023-08-25T12:41:36.348920Z",
     "start_time": "2023-08-25T12:41:36.250301200Z"
    },
    "collapsed": false
   },
   "source": [
    "## ``brainpy.dyn.ProjAlignPreMg2``\n",
    "\n",
    "Synaptic projection which defines the synaptic computation with the dimension of presynaptic neuron group.\n",
    "\n",
    "\n",
    "```\n",
    "brainpy.dyn.ProjAlignPreMg2(\n",
    "   pre, \n",
    "   delay,\n",
    "   syn,  \n",
    "   comm, \n",
    "   out, \n",
    "   post\n",
    ")\n",
    "```\n",
    "\n",
    "- ``pre (JointType[DynamicalSystem, AutoDelaySupp])``: The pre-synaptic neuron group.\n",
    "- ``delay (Union[None, int, float])``: The synaptic delay.\n",
    "- ``syn (ParamDescInit)``: The synaptic dynamics.\n",
    "- ``comm (DynamicalSystem)``: The synaptic communication.\n",
    "- ``out (ParamDescInit)``: The synaptic output.\n",
    "- ``post (DynamicalSystem)`` The post-synaptic neuron group.\n",
    "\n",
    "\n",
    "![](figs/align_pre.png)\n"
   ]
  },
  {
   "cell_type": "markdown",
   "id": "05913bc2",
   "metadata": {
    "ExecuteTime": {
     "end_time": "2023-08-25T12:41:39.826419400Z",
     "start_time": "2023-08-25T12:41:38.204966Z"
    }
   },
   "source": [
    "## Dual Exponential Model"
   ]
  },
  {
   "cell_type": "markdown",
   "id": "26418937",
   "metadata": {},
   "source": [
    "The dual exponential synapse model, also named as *difference of two exponentials model*, is given by:\n",
    "\n",
    "$$\n",
    "g_{\\mathrm{syn}}(t)=\\bar{g}_{\\mathrm{syn}} \\frac{\\tau_{1} \\tau_{2}}{\\tau_{1}-\\tau_{2}}\\left(\\exp \\left(-\\frac{t-t_{0}}{\\tau_{1}}\\right)-\\exp \\left(-\\frac{t-t_{0}}{\\tau_{2}}\\right)\\right)\n",
    "$$\n",
    "\n",
    "where $\\tau_1$ is the time constant of the decay phase, $\\tau_2$ is the time constant of the rise phase, $t_0$ is the time of the pre-synaptic spike, $\\bar{g}_{\\mathrm{syn}}$ is the maximal conductance."
   ]
  },
  {
   "cell_type": "markdown",
   "id": "978009c1",
   "metadata": {},
   "source": [
    "The corresponding differential equation:\n",
    "\n",
    "$$\n",
    "\\begin{aligned}\n",
    "&g_{\\mathrm{syn}}(t)=\\bar{g}_{\\mathrm{syn}} g \\\\\n",
    "&\\frac{d g}{d t}=-\\frac{g}{\\tau_{\\mathrm{decay}}}+h \\\\\n",
    "&\\frac{d h}{d t}=-\\frac{h}{\\tau_{\\text {rise }}}+ \\delta\\left(t_{0}-t\\right),\n",
    "\\end{aligned}\n",
    "$$\n",
    "\n",
    "The alpha function is retrieved in the limit when both time constants are equal."
   ]
  },
  {
   "cell_type": "markdown",
   "id": "34f542f9",
   "metadata": {},
   "source": [
    "# Syt2 KO influence for dynamics"
   ]
  },
  {
   "cell_type": "markdown",
   "id": "8eb30596",
   "metadata": {},
   "source": [
    "t rise 表示突触受体通道从关闭到开放的速度，即突触电导开始上升的快慢<br>\n",
    "t decay 表示突触电导从峰值恢复到基线的速度，即受体失活或通道关闭的快慢"
   ]
  },
  {
   "cell_type": "markdown",
   "id": "569a5353",
   "metadata": {},
   "source": [
    "gmax 变小 <br>\n",
    "蛋白减少 → 囊泡释放减少 → 神经递质浓度降低 → 受体激活数减少 → g<sub>max 下降"
   ]
  },
  {
   "cell_type": "markdown",
   "id": "89792bac",
   "metadata": {},
   "source": [
    "gmax影响因素 <br>\n",
    "1. 释放的神经递质浓度\n",
    "2. 突触后受体激活的数量 <br>"
   ]
  },
  {
   "cell_type": "markdown",
   "id": "38f3ab38",
   "metadata": {},
   "source": [
    "t decay 小幅度变小 <br>\n",
    "如果释放的神经递质量减少 → 激活受体的数量少 → 清除更快 → 电导更快衰减"
   ]
  },
  {
   "cell_type": "markdown",
   "id": "c27a16e9",
   "metadata": {},
   "source": [
    "t decay影响因素\n",
    "1. 受体解离速率\n",
    "2. 神经递质清除速率\n",
    "3. 受体去激活动力学\n",
    "4. 离子通道关闭、再激活前的恢复时间"
   ]
  },
  {
   "cell_type": "markdown",
   "id": "f9834b7e",
   "metadata": {},
   "source": [
    "t rise 大幅度增大 <br>\n",
    "释放的神经递质更少 → 达到足够激活受体的浓度时间更长 <br>\n",
    "电导曲线上升坡变缓"
   ]
  },
  {
   "cell_type": "markdown",
   "id": "b710eaa7",
   "metadata": {},
   "source": [
    "t rise 影响因素\n",
    "1. 神经递质在突触间隙扩散的速度\n",
    "2. 结合受体的速度\n",
    "3. 触发受体开放的速度"
   ]
  },
  {
   "cell_type": "markdown",
   "id": "bc435eb5",
   "metadata": {},
   "source": [
    "# VN -> CbX"
   ]
  },
  {
   "cell_type": "code",
   "execution_count": 2,
   "id": "f5a847b8",
   "metadata": {},
   "outputs": [],
   "source": [
    "duration = 10 # unit s"
   ]
  },
  {
   "cell_type": "markdown",
   "id": "f40c1830",
   "metadata": {},
   "source": [
    "Synapse: Dual Exponential"
   ]
  },
  {
   "cell_type": "code",
   "execution_count": 3,
   "id": "f0a53f9fe0abe92c",
   "metadata": {
    "ExecuteTime": {
     "end_time": "2023-08-25T15:47:45.284231500Z",
     "start_time": "2023-08-25T15:47:45.252470100Z"
    },
    "collapsed": false
   },
   "outputs": [],
   "source": [
    "class DualExpSparseCOBA(bp.Projection):\n",
    "  def __init__(self, pre, post, delay, prob, g_max, tau_decay, tau_rise, E):\n",
    "    super().__init__()\n",
    "    \n",
    "    self.proj = bp.dyn.ProjAlignPreMg2(\n",
    "      pre=pre, \n",
    "      delay=delay, \n",
    "      syn=bp.dyn.DualExpon.desc(pre.num, tau_decay=tau_decay, tau_rise=tau_rise),\n",
    "      comm=bp.dnn.CSRLinear(bp.conn.FixedProb(prob, pre=pre.num, post=post.num), g_max),\n",
    "      out=bp.dyn.COBA(E=E),\n",
    "      post=post, \n",
    "    )"
   ]
  },
  {
   "cell_type": "code",
   "execution_count": 4,
   "id": "b3cb24af",
   "metadata": {},
   "outputs": [],
   "source": [
    "def run_a_net_plot(net):\n",
    "  #indices = np.arange(1900) # for single spike 100ms\n",
    "  indices = np.arange(duration*10000)   # for spike train\n",
    "  conductances, currents, potentials = bm.for_loop(net.step_run, indices, progress_bar=True)\n",
    "  ts = indices * bm.get_dt()\n",
    "  \n",
    "  # --- similar to: \n",
    "  # runner = bp.DSRunner(net)\n",
    "  # conductances, currents, potentials = runner.run(100.)\n",
    "  \n",
    "  fig, gs = bp.visualize.get_figure(1, 3, 3.5, 4)\n",
    "  fig.add_subplot(gs[0, 0])\n",
    "  plt.plot(ts, conductances)\n",
    "  plt.title('Syn conductance')\n",
    "  fig.add_subplot(gs[0, 1])\n",
    "  plt.plot(ts, currents)\n",
    "  plt.title('Syn current')\n",
    "  fig.add_subplot(gs[0, 2])\n",
    "  plt.plot(ts, potentials)\n",
    "  plt.title('Post V')\n",
    "  plt.show()\n",
    "  return potentials"
   ]
  },
  {
   "cell_type": "code",
   "execution_count": 5,
   "id": "4bb82945",
   "metadata": {},
   "outputs": [],
   "source": [
    "def run_a_net(net):\n",
    "  indices = np.arange(duration*10000)   # for spike train\n",
    "  conductances, currents, potentials = bm.for_loop(net.step_run, indices, progress_bar=True)\n",
    "  ts = indices * bm.get_dt()\n",
    "  return potentials"
   ]
  },
  {
   "cell_type": "code",
   "execution_count": 6,
   "id": "a381b60e",
   "metadata": {},
   "outputs": [],
   "source": [
    "def Poisson_sptrain(fr):\n",
    "    n = np.random.poisson(fr * duration)  # 计算时间段T内的事件总数（泊松分布）\n",
    "    spike_times = np.sort(np.random.uniform(0, duration, n))  # 在[0,T]内均匀生成n个事件时间点并排序\n",
    "    spike_times = spike_times * 1000  # unit ms\n",
    "    isi = np.diff(spike_times)  # 计算事件间隔时间（Inter-Spike Interval）unit ms\n",
    "    return spike_times, isi  # 返回事件时间序列和间隔序列"
   ]
  },
  {
   "cell_type": "code",
   "execution_count": 7,
   "id": "035a88c1",
   "metadata": {},
   "outputs": [],
   "source": [
    "def find_trig_spike_time(arr):\n",
    "    #找到所有满足前值 > -50.8 且后值 = -60 的连续元素对\n",
    "    mask = (arr[:-1] > -50.8) & (arr[1:] == -60) # 通过切片操作，隐式比较了每一对相邻元素\n",
    "    indices = np.where(mask)[0] / 10  # 换算为ms\n",
    "    return indices\n",
    "\n",
    "def plot_isi(isi,name,cutoff_distr):\n",
    "    isi = isi[(isi > 0.001) & (isi <= cutoff_distr)]\n",
    "    plt.figure(figsize=(10, 4))\n",
    "    plt.hist(isi, bins=100, color='dodgerblue', alpha=0.7)\n",
    "    plt.xlabel('Inter-spike Interval (ms)')\n",
    "    plt.ylabel('Counts')\n",
    "    plt.title(f'{name} ISI Distribution')\n",
    "    plt.grid(True)\n",
    "    plt.tight_layout()\n",
    "    plt.show()\n",
    "\n",
    "def Plot_SpikeTrain(input_sptimes,output_sptimes,input_name,output_name):\n",
    "    plt.figure(figsize=(45, 2))\n",
    "    plt.eventplot([input_sptimes, output_sptimes], colors=['b', 'r'], lineoffsets=[2, 1], linelengths=0.8)\n",
    "    plt.yticks([1, 2], [f'{output_name}', f'{input_name}s'])\n",
    "    plt.xlabel('Time (ms)')\n",
    "    plt.title('Raster Plot of Input and Output Spike Times')\n",
    "    plt.tight_layout()\n",
    "    plt.show()"
   ]
  },
  {
   "cell_type": "markdown",
   "id": "79b00ff3",
   "metadata": {},
   "source": [
    "4 Syt2KO VN neuron -> 1 Granule cell"
   ]
  },
  {
   "cell_type": "markdown",
   "id": "5c9577e0",
   "metadata": {},
   "source": [
    "1. Input: Four VN neurons Poisson Process spike train"
   ]
  },
  {
   "cell_type": "code",
   "execution_count": 8,
   "id": "ff288a55",
   "metadata": {},
   "outputs": [],
   "source": [
    "def generate_VNs_sptrain(VN_neuron_num,fr):\n",
    "    all_events = []  # 格式：(spike_time, neuron_id)\n",
    "    for j in range(VN_neuron_num):\n",
    "        sptimes, isi = Poisson_sptrain(fr)  # input_sptimes unit ms\n",
    "        # 为当前神经元的每个发放时间添加事件\n",
    "        for t in sptimes:\n",
    "            all_events.append((t, j))\n",
    "\n",
    "    # 按发放时间排序\n",
    "    all_events.sort(key=lambda x: x[0])  # 根据spike_time排序\n",
    "\n",
    "    # 提取排序后的发放时间和对应神经元ID\n",
    "    VNs_times = [event[0] for event in all_events]\n",
    "    VNs_cluster = [event[1] for event in all_events]\n",
    "    return VNs_times, VNs_cluster"
   ]
  },
  {
   "cell_type": "markdown",
   "id": "0d7d6445",
   "metadata": {},
   "source": [
    "2. Network: VN -> Granule cell Net"
   ]
  },
  {
   "cell_type": "code",
   "execution_count": 12,
   "id": "34fb1dc1ac1c60c0",
   "metadata": {
    "ExecuteTime": {
     "end_time": "2023-08-25T15:47:45.284231500Z",
     "start_time": "2023-08-25T15:47:45.268561400Z"
    },
    "collapsed": false
   },
   "outputs": [],
   "source": [
    "# Spike Train -> Synapse -> LIF\n",
    "class VN_Gc_Net(bp.DynSysGroup):  \n",
    "  def __init__(self, E=0.,freqs=30.):\n",
    "    super().__init__()\n",
    "    self.pre = bp.dyn.PoissonGroup(4, freqs=freqs)\n",
    "    #self.pre = bp.dyn.SpikeTimeGroup(1, indices=(0, 0), times=(0., 100.))  # single spike input\n",
    "    #self.pre = bp.dyn.SpikeTimeGroup(4, times=sptimes, indices=spcluster)  # spike train input\n",
    "    self.post = bp.dyn.LifRef(1, V_rest=-60., V_th=-50., V_reset=-60., tau=20., tau_ref=5.,\n",
    "                              V_initializer=bp.init.Constant(-60.))\n",
    "    '''\n",
    "    # 默认 normal\n",
    "    self.syn = DualExpSparseCOBA(self.pre, self.post, delay=None, prob=1., g_max=1., \n",
    "                                tau_rise=1., tau_decay=5., E=E)  \n",
    "    '''\n",
    "    # Syt2 KO 上升更慢  衰减更快（囊泡释放更慢）  峰值更低g_max降低(囊泡释放更少)\n",
    "    # V1 gmax' = 1/10gmax = 0.1, V2 gmax' = 0.2, V3 gmax' = 0.3\n",
    "    self.syn = DualExpSparseCOBA(self.pre, self.post, delay=None, prob=1., \n",
    "                                tau_rise=25., tau_decay=2., g_max=0.2, E=E)  \n",
    "    '''\n",
    "    # junqiang parameters 会让postV产生波形抖动 符合patch结果\n",
    "    self.syn = DualExpSparseCOBA(self.pre, self.post, delay=None, prob=1., \n",
    "                                tau_rise=20., tau_decay=0.5, g_max=0.5, E=E)\n",
    "    \n",
    "    # Syt2 overexpression 上升更快  衰减也更快（囊泡释放更快）  峰值更高(囊泡释放增加)\n",
    "    self.syn = DualExpSparseCOBA(self.pre, self.post, delay=None, prob=1., \n",
    "                                tau_rise=0.5, tau_decay=3., g_max=1.9, E=E)   \n",
    "    '''\n",
    "  def update(self):\n",
    "    self.pre()\n",
    "    self.syn()\n",
    "    self.post()\n",
    "    \n",
    "    # monitor the following variables\n",
    "    conductance = self.syn.proj.refs['syn'].g\n",
    "    current = self.post.sum_inputs(self.post.V)\n",
    "    return conductance, current, self.post.V"
   ]
  },
  {
   "cell_type": "markdown",
   "id": "36c77a4e",
   "metadata": {},
   "source": [
    "3. Output: Granule cell spike times"
   ]
  },
  {
   "cell_type": "code",
   "execution_count": 13,
   "id": "4b13228565c56df",
   "metadata": {
    "ExecuteTime": {
     "end_time": "2023-08-25T15:47:46.491566600Z",
     "start_time": "2023-08-25T15:47:45.284231500Z"
    },
    "collapsed": false
   },
   "outputs": [
    {
     "name": "stderr",
     "output_type": "stream",
     "text": [
      "/home/zhangyuhao/miniconda3/envs/brainpy/lib/python3.11/site-packages/brainpy/_src/deprecations.py:89: DeprecationWarning: brainpy.dyn.ProjAlignPreMg2 is deprecated. Use brainpy.dyn.FullProjAlignPreDSMg instead.\n",
      "  _deprecate(message)\n",
      "  0%|          | 0/100000 [00:00<?, ?it/s]/home/zhangyuhao/miniconda3/envs/brainpy/lib/python3.11/site-packages/jax/extend/linear_util.py:38: DeprecationWarning: linear_util.wrap_init is missing a DebugInfo object. This behavior is deprecated, use api_util.debug_info() to construct a proper DebugInfo object and propagate it to this function. See https://github.com/jax-ml/jax/issues/26480 for more details.\n",
      "  debug_info = debug_info or _missing_debug_info(\"linear_util.wrap_init\")\n",
      "/home/zhangyuhao/miniconda3/envs/brainpy/lib/python3.11/site-packages/brainpy/_src/mixin.py:489: UserWarning: Please use \".sum_current_inputs()\" instead. \".sum_inputs()\" will be removed.\n",
      "  warnings.warn('Please use \".sum_current_inputs()\" instead. \".sum_inputs()\" will be removed.', UserWarning)\n",
      "100%|██████████| 100000/100000 [00:11<00:00, 8498.46it/s]\n"
     ]
    }
   ],
   "source": [
    "def generate_1gc_sptrain():\n",
    "    #VNs_times, VNs_cluster = generate_VNs_sptrain(VN_neuron_num = 2,fr = 15) #假设 4个granule cell有两个来自VN，发放率30\n",
    "    GC_PostV = run_a_net(VN_Gc_Net(E=0.))  # Excitatory DualExpon synapse model\n",
    "    GC_PostV_value = GC_PostV.value.flatten()  # 获取 Array 对象\n",
    "    GC_sptimes = find_trig_spike_time(GC_PostV_value)  # unit ms\n",
    "    GC_isi = np.diff(GC_sptimes)\n",
    "    return GC_sptimes, GC_isi\n",
    "\n",
    "GC_sptimes, GC_isi = generate_1gc_sptrain()"
   ]
  },
  {
   "cell_type": "code",
   "execution_count": null,
   "id": "22445f99",
   "metadata": {},
   "outputs": [],
   "source": [
    "Plot_SpikeTrain(VN_sptimes,GC_sptimes,'VN','GC')"
   ]
  },
  {
   "cell_type": "code",
   "execution_count": 14,
   "id": "2050c620",
   "metadata": {},
   "outputs": [
    {
     "name": "stdout",
     "output_type": "stream",
     "text": [
      "firing rate of GC neuron:83.5\n"
     ]
    },
    {
     "data": {
      "image/png": "[encoded data removed]",
      "text/plain": [
       "<Figure size 1000x400 with 1 Axes>"
      ]
     },
     "metadata": {},
     "output_type": "display_data"
    }
   ],
   "source": [
    "print(f\"firing rate of GC neuron:{len(GC_sptimes)/duration}\")\n",
    "plot_isi(GC_isi,'GC',100)  #尽量让这个分布密度密一些，峰值更大一些，峰更靠右一些"
   ]
  },
  {
   "cell_type": "markdown",
   "id": "7e54dbb0",
   "metadata": {},
   "source": [
    "5 Granule cell -> 1 Purkinje Cell<br>  Not all granule cells firing, although one PC receive 17500 Granule cells"
   ]
  },
  {
   "cell_type": "markdown",
   "id": "ff1544c4",
   "metadata": {},
   "source": [
    "1. Input: 5 syt2ko granule cells spike times"
   ]
  },
  {
   "cell_type": "code",
   "execution_count": 15,
   "id": "65d349e2",
   "metadata": {},
   "outputs": [
    {
     "data": {
      "text/plain": [
       "'\\ndef generate_gcs_sptrain():\\n    GC_neuron_num = 20\\n    all_events = []  # 格式：(spike_time, neuron_id)\\n\\n    for i in range(GC_neuron_num):\\n        GC_sptimes, GC_isi = generate_1gc_sptrain()\\n\\n        # 为当前神经元的每个发放时间添加事件\\n        for t in GC_sptimes:\\n            all_events.append((t, i))  # 记录(时间, 神经元ID)\\n\\n    # 按发放时间排序\\n    all_events.sort(key=lambda x: x[0])  # 根据spike_time排序\\n\\n    # 提取排序后的发放时间和对应神经元ID\\n    GCs_spike_times = [event[0] for event in all_events]\\n    GCs_spike_cluster = [event[1] for event in all_events]\\n    return GCs_spike_times,GCs_spike_cluster\\n'"
      ]
     },
     "execution_count": 15,
     "metadata": {},
     "output_type": "execute_result"
    }
   ],
   "source": [
    "# Because Granule cell layer are so big, with the Syt2KO, they are more likely to synchrous to generate volley.\n",
    "# There's no need to simulate 175,000 granule cells, just use one GC adding some jitter copying 20 GCs\n",
    "\n",
    "def generate_gcs_sptrain():\n",
    "    GC_neuron_num = 20\n",
    "    jitter_window = 5  # ms\n",
    "\n",
    "    all_events = []  # 格式：(spike_time, neuron_id)\n",
    "    for i in range(GC_neuron_num):\n",
    "        # 对于每个神经元，在每个 gamma spike 时间 t 加入一个 [0,10]ms 的 jitter\n",
    "        jittered_spike_times = GC_sptimes + np.random.uniform(0, jitter_window, size=GC_sptimes.shape)\n",
    "        # 为当前神经元的每个发放时间添加事件\n",
    "        for t in jittered_spike_times:\n",
    "            all_events.append((t, i))  # 记录(时间, 神经元ID)\n",
    "\n",
    "    # 按发放时间排序\n",
    "    all_events.sort(key=lambda x: x[0])  # 根据spike_time排序\n",
    "\n",
    "    # 提取排序后的发放时间和对应神经元ID\n",
    "    GCs_spike_times = [event[0] for event in all_events]\n",
    "    GCs_spike_cluster = [event[1] for event in all_events]\n",
    "    return GCs_spike_times,GCs_spike_cluster\n",
    "\n",
    "'''\n",
    "def generate_gcs_sptrain():\n",
    "    GC_neuron_num = 20\n",
    "    all_events = []  # 格式：(spike_time, neuron_id)\n",
    "\n",
    "    for i in range(GC_neuron_num):\n",
    "        GC_sptimes, GC_isi = generate_1gc_sptrain()\n",
    "\n",
    "        # 为当前神经元的每个发放时间添加事件\n",
    "        for t in GC_sptimes:\n",
    "            all_events.append((t, i))  # 记录(时间, 神经元ID)\n",
    "\n",
    "    # 按发放时间排序\n",
    "    all_events.sort(key=lambda x: x[0])  # 根据spike_time排序\n",
    "\n",
    "    # 提取排序后的发放时间和对应神经元ID\n",
    "    GCs_spike_times = [event[0] for event in all_events]\n",
    "    GCs_spike_cluster = [event[1] for event in all_events]\n",
    "    return GCs_spike_times,GCs_spike_cluster\n",
    "'''"
   ]
  },
  {
   "cell_type": "markdown",
   "id": "de960698",
   "metadata": {},
   "source": [
    "2.  Network: Granule cell -> Purkinje cell"
   ]
  },
  {
   "cell_type": "code",
   "execution_count": 16,
   "id": "27d9f088",
   "metadata": {},
   "outputs": [],
   "source": [
    "class Gc_Pc_Net(bp.DynSysGroup):\n",
    "  def __init__(self,sptimes,spcluster, E=0.):\n",
    "    super().__init__()\n",
    "    # times is spike times of each spike, indices is unit id of each spike\n",
    "    self.pre = bp.dyn.SpikeTimeGroup(5, times=sptimes, indices=spcluster)  # spike train input\n",
    "    self.post = bp.dyn.LifRef(1, V_rest=-60., V_th=-50., V_reset=-60., tau=20., tau_ref=5.,\n",
    "                              V_initializer=bp.init.Constant(-60.))\n",
    "    self.syn = DualExpSparseCOBA(self.pre, self.post, delay=None, prob=1., g_max=1., \n",
    "                                 tau_decay=5., tau_rise=1., E=E)             \n",
    "    \n",
    "  def update(self):\n",
    "    self.pre()\n",
    "    self.syn()\n",
    "    self.post()\n",
    "    # monitor the following variables\n",
    "    conductance = self.syn.proj.refs['syn'].g\n",
    "    current = self.post.sum_inputs(self.post.V)\n",
    "    return conductance, current, self.post.V"
   ]
  },
  {
   "cell_type": "markdown",
   "id": "b8667431",
   "metadata": {},
   "source": [
    "3. Output: Purkinje cell spike times"
   ]
  },
  {
   "cell_type": "code",
   "execution_count": 17,
   "id": "761cab93",
   "metadata": {},
   "outputs": [
    {
     "name": "stderr",
     "output_type": "stream",
     "text": [
      "/home/zhangyuhao/miniconda3/envs/brainpy/lib/python3.11/site-packages/brainpy/_src/deprecations.py:89: DeprecationWarning: brainpy.dyn.ProjAlignPreMg2 is deprecated. Use brainpy.dyn.FullProjAlignPreDSMg instead.\n",
      "  _deprecate(message)\n",
      "  0%|          | 0/100000 [00:00<?, ?it/s]/home/zhangyuhao/miniconda3/envs/brainpy/lib/python3.11/site-packages/jax/extend/linear_util.py:38: DeprecationWarning: linear_util.wrap_init is missing a DebugInfo object. This behavior is deprecated, use api_util.debug_info() to construct a proper DebugInfo object and propagate it to this function. See https://github.com/jax-ml/jax/issues/26480 for more details.\n",
      "  debug_info = debug_info or _missing_debug_info(\"linear_util.wrap_init\")\n",
      "/home/zhangyuhao/miniconda3/envs/brainpy/lib/python3.11/site-packages/brainpy/_src/mixin.py:489: UserWarning: Please use \".sum_current_inputs()\" instead. \".sum_inputs()\" will be removed.\n",
      "  warnings.warn('Please use \".sum_current_inputs()\" instead. \".sum_inputs()\" will be removed.', UserWarning)\n",
      "100%|██████████| 100000/100000 [00:10<00:00, 9140.75it/s]\n"
     ]
    }
   ],
   "source": [
    "def generate_1pc_sptrain():\n",
    "    GCs_spike_times, GCs_spike_cluster = generate_gcs_sptrain()\n",
    "    PC_PostV = run_a_net(Gc_Pc_Net(sptimes = GCs_spike_times, spcluster = GCs_spike_cluster, E=0.)) # Excitatory DualExpon synapse model\n",
    "    PC_PostV_value = PC_PostV.value.flatten()  # 获取 Array 对象\n",
    "    PC_sptimes = find_trig_spike_time(PC_PostV_value)  # unit ms\n",
    "    PC_isi = np.diff(PC_sptimes)\n",
    "    return PC_sptimes,PC_isi\n",
    "\n",
    "PC_sptimes, PC_isi = generate_1pc_sptrain()"
   ]
  },
  {
   "cell_type": "code",
   "execution_count": 99,
   "id": "9b99784f",
   "metadata": {},
   "outputs": [
    {
     "data": {
      "image/png": "[encoded data removed]",
      "text/plain": [
       "<Figure size 4500x200 with 1 Axes>"
      ]
     },
     "metadata": {},
     "output_type": "display_data"
    }
   ],
   "source": [
    "Plot_SpikeTrain(GC_sptimes,PC_sptimes,'GC','PC')"
   ]
  },
  {
   "cell_type": "code",
   "execution_count": 18,
   "id": "36b06c6a",
   "metadata": {},
   "outputs": [
    {
     "name": "stdout",
     "output_type": "stream",
     "text": [
      "firing rate of PC neuron:130.4\n"
     ]
    },
    {
     "data": {
      "image/png": "[encoded data removed]",
      "text/plain": [
       "<Figure size 1000x400 with 1 Axes>"
      ]
     },
     "metadata": {},
     "output_type": "display_data"
    },
    {
     "data": {
      "image/png": "[encoded data removed]",
      "text/plain": [
       "<Figure size 1000x400 with 1 Axes>"
      ]
     },
     "metadata": {},
     "output_type": "display_data"
    }
   ],
   "source": [
    "print(f\"firing rate of PC neuron:{len(PC_sptimes)/duration}\")\n",
    "plot_isi(GC_isi,'GC',100)\n",
    "plot_isi(PC_isi,'PC',100)  #尽量让这个分布密度密一些，峰值更大一些，峰更靠右一些"
   ]
  },
  {
   "cell_type": "markdown",
   "id": "dfb07772",
   "metadata": {},
   "source": [
    "# CbX -> DCN"
   ]
  },
  {
   "cell_type": "markdown",
   "id": "df584730",
   "metadata": {},
   "source": [
    "create three neurons with renewal process ISI <br>\n",
    "A single neuron in the deep cerebellar nuclei (DCN) receives input from a population of approximately 40 Purkinje cells (Kathellen Cullen)<br>\n",
    "A single PC is estimated to innervate approximately 30–40 DCN neurons and in turn, each DCN neuron, receives projections from about 600–900 PC (Chan-Palay, 1973a ; Mezey et al., 1977 ; Palkovits et al., 1977 ) <br>但并不是所有的PC都会发放"
   ]
  },
  {
   "cell_type": "markdown",
   "id": "50d1f845",
   "metadata": {},
   "source": [
    "可以看到Syt2KO CbX neuron ISI 呈现gamma 分布 <br>\n",
    "Gamma分布 神经元能提供规则、有时序结构的 volley，建议25个，α=3 的 Gamma 分布，每 100ms 时间窗内发 1 spike<br>\n",
    "Gamma分布均值建议10–20ms，平均发放率 50–100Hz，适合产生 volley<br>\n",
    "Exponential分布 神经元提供不规则背景噪声，可能干扰，也可能偶尔辅助，建议5个，λ=10–20Hz<br>\n",
    "每 100ms 左右产生一次整合性高的 EPSP volley → 引发 burst<br>\n",
    "剩下时间仅靠 Exponential spike 无法激发 neuron → 保持 50ms silent<br>"
   ]
  },
  {
   "cell_type": "markdown",
   "id": "49899893",
   "metadata": {},
   "source": [
    "1. Input: Synchronus Syt2ko Projection PC spike train and normal PC spike train"
   ]
  },
  {
   "cell_type": "code",
   "execution_count": 24,
   "id": "b4dd0b0a",
   "metadata": {},
   "outputs": [
    {
     "data": {
      "image/png": "[encoded data removed]",
      "text/plain": [
       "<Figure size 2000x1000 with 1 Axes>"
      ]
     },
     "metadata": {},
     "output_type": "display_data"
    }
   ],
   "source": [
    "PC_syt2ko_proj_num = 25  # synchrony neuron number syt2ko\n",
    "PC_normal_proj_num = 5   # synchrony neuron number 正常神经元 \n",
    "\n",
    "# syt2ko : normal = 9 : 1 出现分立的gamma分布 syt2ko : normal = 15 : 3 出现多个分立峰 oscillation \n",
    "PC_neuron_num = PC_syt2ko_proj_num + PC_normal_proj_num\n",
    "jitter_window = 10  # ms\n",
    "\n",
    "# 生成 spike trains：25个 list，每个神经元一个 spike time 数组\n",
    "volley_spike_trains = []\n",
    "\n",
    "all_events = []  # 格式：(spike_time, neuron_id)\n",
    "\n",
    "for i in range(PC_syt2ko_proj_num):\n",
    "    # 对于每个神经元，在每个 gamma spike 时间 t 加入一个 [0,10]ms 的 jitter\n",
    "    jittered_spike_times = PC_sptimes + np.random.uniform(0, jitter_window, size=PC_sptimes.shape)\n",
    "    volley_spike_trains.append(np.sort(jittered_spike_times))\n",
    "    # 为当前神经元的每个发放时间添加事件\n",
    "    for t in jittered_spike_times:\n",
    "        all_events.append((t, i))  # 记录(时间, 神经元ID)\n",
    "\n",
    "# 生成正常神经元的发放事件\n",
    "for j in range(PC_normal_proj_num):\n",
    "    CbX_normal_sptimes, _ = Poisson_sptrain(fr = 10)  # 忽略ISI数据\n",
    "    neuron_id = j + PC_syt2ko_proj_num  \n",
    "    \n",
    "    # 为当前神经元的每个发放时间添加事件\n",
    "    for t in CbX_normal_sptimes:\n",
    "        all_events.append((t, neuron_id))\n",
    "\n",
    "# 按发放时间排序\n",
    "all_events.sort(key=lambda x: x[0])  # 根据spike_time排序\n",
    "\n",
    "# 提取排序后的发放时间和对应神经元ID\n",
    "DCN_spike_times = [event[0] for event in all_events]\n",
    "DCN_spike_cluster = [event[1] for event in all_events]\n",
    "\n",
    "# 可视化 raster plot\n",
    "plt.figure(figsize=(20, 10))\n",
    "for i, train in enumerate(volley_spike_trains):\n",
    "    plt.vlines(train, i + 0.5, i + 1.5, color='black')\n",
    "\n",
    "plt.xlabel('Time (ms)')\n",
    "plt.ylabel('Neuron Index')\n",
    "plt.title('25 Gamma Neurons Volley Spike Trains (Jittered)')\n",
    "plt.ylim(0.5, PC_syt2ko_proj_num + 0.5)\n",
    "plt.show()"
   ]
  },
  {
   "cell_type": "markdown",
   "id": "56b4b51d",
   "metadata": {},
   "source": [
    "Optional: 生成独立的CbX Syt2KO/正常神经元的spike train"
   ]
  },
  {
   "cell_type": "code",
   "execution_count": 25,
   "id": "b0a20307",
   "metadata": {},
   "outputs": [
    {
     "ename": "NameError",
     "evalue": "name 'VN_CbX_Net' is not defined",
     "output_type": "error",
     "traceback": [
      "\u001b[31m---------------------------------------------------------------------------\u001b[39m",
      "\u001b[31mNameError\u001b[39m                                 Traceback (most recent call last)",
      "\u001b[36mCell\u001b[39m\u001b[36m \u001b[39m\u001b[32mIn[25]\u001b[39m\u001b[32m, line 13\u001b[39m\n\u001b[32m     11\u001b[39m \u001b[38;5;28;01mfor\u001b[39;00m i \u001b[38;5;129;01min\u001b[39;00m \u001b[38;5;28mrange\u001b[39m(syt2ko_num):\n\u001b[32m     12\u001b[39m     VN_sptimes, _ = Poisson_sptrain(fr = \u001b[32m60\u001b[39m)  \u001b[38;5;66;03m# 忽略ISI数据\u001b[39;00m\n\u001b[32m---> \u001b[39m\u001b[32m13\u001b[39m     CbX_PostV = run_a_net(\u001b[43mVN_CbX_Net\u001b[49m(sptimes = VN_sptimes, E=\u001b[32m0.\u001b[39m))\n\u001b[32m     14\u001b[39m     CbX_PostV_value = CbX_PostV.value  \u001b[38;5;66;03m# 获取 Array 对象\u001b[39;00m\n\u001b[32m     15\u001b[39m     CbX_PostV_flat = CbX_PostV_value.flatten()  \u001b[38;5;66;03m# 平铺成一维数组\u001b[39;00m\n",
      "\u001b[31mNameError\u001b[39m: name 'VN_CbX_Net' is not defined"
     ]
    }
   ],
   "source": [
    "syt2ko_num = 12  # synchrony neuron number syt2ko\n",
    "normal_num = 5   # synchrony neuron number 正常神经元 \n",
    "\n",
    "# syt2ko : normal = 9 : 1 出现分立的gamma分布 syt2ko : normal = 15 : 3 出现多个分立峰 oscillation \n",
    "neuron_num = syt2ko_num + normal_num\n",
    "\n",
    "# 初始化存放所有发放事件的列表\n",
    "all_events = []  # 格式：(spike_time, neuron_id)\n",
    "\n",
    "# 生成syt2ko神经元的发放事件\n",
    "for i in range(syt2ko_num):\n",
    "    VN_sptimes, _ = Poisson_sptrain(fr = 60)  # 忽略ISI数据\n",
    "    CbX_PostV = run_a_net(VN_CbX_Net(sptimes = VN_sptimes, E=0.))\n",
    "    CbX_PostV_value = CbX_PostV.value  # 获取 Array 对象\n",
    "    CbX_PostV_flat = CbX_PostV_value.flatten()  # 平铺成一维数组\n",
    "    CbX_Syt2ko_sptimes = find_trig_spike_time(CbX_PostV_flat)  # unit ms\n",
    "\n",
    "    # 为当前神经元的每个发放时间添加事件\n",
    "    for t in CbX_Syt2ko_sptimes:\n",
    "        all_events.append((t, i))  # 记录(时间, 神经元ID)\n",
    "\n",
    "# 生成正常神经元的发放事件\n",
    "for j in range(normal_num):\n",
    "    CbX_normal_sptimes, _ = Poisson_sptrain(fr = 10)  # 忽略ISI数据\n",
    "    neuron_id = j + syt2ko_num  \n",
    "    \n",
    "    # 为当前神经元的每个发放时间添加事件\n",
    "    for t in CbX_normal_sptimes:\n",
    "        all_events.append((t, neuron_id))\n",
    "\n",
    "# 按发放时间排序\n",
    "all_events.sort(key=lambda x: x[0])  # 根据spike_time排序\n",
    "\n",
    "# 提取排序后的发放时间和对应神经元ID\n",
    "spike_times = [event[0] for event in all_events]\n",
    "spike_cluster = [event[1] for event in all_events]"
   ]
  },
  {
   "cell_type": "markdown",
   "id": "8b0e07e7",
   "metadata": {},
   "source": [
    "2. Network: Purkinje cell -> Deep cerebellar neucleus neuron"
   ]
  },
  {
   "cell_type": "code",
   "execution_count": 26,
   "id": "d9096449",
   "metadata": {},
   "outputs": [],
   "source": [
    "class PC_DCN_Net(bp.DynSysGroup):\n",
    "  def __init__(self, E=0.):\n",
    "    super().__init__()\n",
    "    # times is spike times of each spike, indices is unit id of each spike\n",
    "    self.pre = bp.dyn.SpikeTimeGroup(PC_neuron_num, times=DCN_spike_times, indices=DCN_spike_cluster)  # spike train input\n",
    "    self.post = bp.dyn.LifRef(1, V_rest=-60., V_th=-50., V_reset=-60., tau=20., tau_ref=5.,\n",
    "                              V_initializer=bp.init.Constant(-60.))\n",
    "\n",
    "    self.syn = DualExpSparseCOBA(self.pre, self.post, delay=None, prob=1., g_max=1., \n",
    "                                 tau_decay=5., tau_rise=1., E=E)             \n",
    "    \n",
    "  def update(self):\n",
    "    self.pre()\n",
    "    self.syn()\n",
    "    self.post()\n",
    "    \n",
    "    # monitor the following variables\n",
    "    conductance = self.syn.proj.refs['syn'].g\n",
    "    current = self.post.sum_inputs(self.post.V)\n",
    "    return conductance, current, self.post.V"
   ]
  },
  {
   "cell_type": "markdown",
   "id": "f1a5813f",
   "metadata": {},
   "source": [
    "3. Output: DCN spike times"
   ]
  },
  {
   "cell_type": "code",
   "execution_count": 27,
   "id": "adeeace2",
   "metadata": {},
   "outputs": [
    {
     "name": "stderr",
     "output_type": "stream",
     "text": [
      "/home/zhangyuhao/miniconda3/envs/brainpy/lib/python3.11/site-packages/brainpy/_src/deprecations.py:89: DeprecationWarning: brainpy.dyn.ProjAlignPreMg2 is deprecated. Use brainpy.dyn.FullProjAlignPreDSMg instead.\n",
      "  _deprecate(message)\n",
      "  0%|          | 0/100000 [00:00<?, ?it/s]/home/zhangyuhao/miniconda3/envs/brainpy/lib/python3.11/site-packages/jax/extend/linear_util.py:38: DeprecationWarning: linear_util.wrap_init is missing a DebugInfo object. This behavior is deprecated, use api_util.debug_info() to construct a proper DebugInfo object and propagate it to this function. See https://github.com/jax-ml/jax/issues/26480 for more details.\n",
      "  debug_info = debug_info or _missing_debug_info(\"linear_util.wrap_init\")\n",
      "/home/zhangyuhao/miniconda3/envs/brainpy/lib/python3.11/site-packages/brainpy/_src/mixin.py:489: UserWarning: Please use \".sum_current_inputs()\" instead. \".sum_inputs()\" will be removed.\n",
      "  warnings.warn('Please use \".sum_current_inputs()\" instead. \".sum_inputs()\" will be removed.', UserWarning)\n",
      "100%|██████████| 100000/100000 [00:11<00:00, 9072.84it/s]\n"
     ]
    }
   ],
   "source": [
    "DCN_PostV = run_a_net(PC_DCN_Net(E=-35.)) # all neurons projecting from the cerebellar cortex to the deep cerebellar nuclei are inhibitory neurons\n",
    "DCN_PostV_value = DCN_PostV.value  # 获取 Array 对象\n",
    "DCN_PostV_flat = DCN_PostV_value.flatten()  # 平铺成一维数组\n",
    "DCN_sptimes = find_trig_spike_time(DCN_PostV_flat)  # unit ms\n",
    "DCN_isi = np.diff(DCN_sptimes)"
   ]
  },
  {
   "cell_type": "code",
   "execution_count": 153,
   "id": "5bb624e2",
   "metadata": {},
   "outputs": [
    {
     "data": {
      "image/png": "[encoded data removed]",
      "text/plain": [
       "<Figure size 4500x200 with 1 Axes>"
      ]
     },
     "metadata": {},
     "output_type": "display_data"
    }
   ],
   "source": [
    "Plot_SpikeTrain(PC_sptimes,DCN_sptimes,'PC','DCN')"
   ]
  },
  {
   "cell_type": "code",
   "execution_count": 28,
   "id": "46ec6600",
   "metadata": {},
   "outputs": [
    {
     "data": {
      "image/png": "[encoded data removed]",
      "text/plain": [
       "<Figure size 1000x400 with 1 Axes>"
      ]
     },
     "metadata": {},
     "output_type": "display_data"
    },
    {
     "data": {
      "image/png": "[encoded data removed]",
      "text/plain": [
       "<Figure size 1000x400 with 1 Axes>"
      ]
     },
     "metadata": {},
     "output_type": "display_data"
    }
   ],
   "source": [
    "plot_isi(PC_isi,'PC',150)\n",
    "plot_isi(DCN_isi,'DCN',150)"
   ]
  },
  {
   "cell_type": "markdown",
   "id": "d4e00717",
   "metadata": {},
   "source": [
    "# DCN inner network"
   ]
  },
  {
   "cell_type": "code",
   "execution_count": null,
   "id": "7f70d427",
   "metadata": {},
   "outputs": [],
   "source": [
    "DCN_inner_neunum = 2\n",
    "DCN_inner_sptimes = np.repeat(DCN_sptimes, DCN_inner_neunum)\n",
    "DCN_inner_indices = list(range(DCN_inner_neunum)) * len(DCN_sptimes)"
   ]
  },
  {
   "cell_type": "code",
   "execution_count": null,
   "id": "a9f4a5eb",
   "metadata": {},
   "outputs": [],
   "source": [
    "class SimpleNet6(bp.DynSysGroup):\n",
    "  def __init__(self, E=0.):\n",
    "    super().__init__()\n",
    "    \n",
    "    self.pre = bp.dyn.SpikeTimeGroup(DCN_inner_neunum, times=DCN_inner_sptimes, indices=DCN_inner_indices)  # spike train input\n",
    "    self.post = bp.dyn.LifRef(1, V_rest=-60., V_th=-50., V_reset=-60., tau=20., tau_ref=5.,\n",
    "                              V_initializer=bp.init.Constant(-60.))\n",
    "\n",
    "    self.syn = DualExpSparseCOBA(self.pre, self.post, delay=None, prob=1., g_max=1., \n",
    "                                 tau_decay=5., tau_rise=1., E=E)  \n",
    "    \n",
    "  def update(self):\n",
    "    self.pre()\n",
    "    self.syn()\n",
    "    self.post()\n",
    "    \n",
    "    # monitor the following variables\n",
    "    conductance = self.syn.proj.refs['syn'].g\n",
    "    current = self.post.sum_inputs(self.post.V)\n",
    "    return conductance, current, self.post.V"
   ]
  },
  {
   "cell_type": "markdown",
   "id": "8dc1c111",
   "metadata": {},
   "source": [
    "Deep cerebellar nuclei (DCN) have projection neurons that contribute to the cerebellum's output <br>\n",
    "These projections can be both excitatory and inhibitory"
   ]
  },
  {
   "cell_type": "code",
   "execution_count": null,
   "id": "81f029de",
   "metadata": {},
   "outputs": [],
   "source": [
    "PostV3 = run_a_net(SimpleNet6(E=0.))\n",
    "value_array3 = PostV3.value  # 获取 Array 对象\n",
    "flattened_arr3 = value_array3.flatten()  # 平铺成一维数组\n",
    "np.set_printoptions(threshold=np.inf)\n",
    "\n",
    "output_sptimes3 = find_trig_spike_time(flattened_arr3)  # unit ms\n",
    "output_isi3 = np.diff(output_sptimes3)"
   ]
  },
  {
   "cell_type": "code",
   "execution_count": null,
   "id": "389c6304",
   "metadata": {},
   "outputs": [],
   "source": [
    "plt.figure(figsize=(60, 2))\n",
    "plt.eventplot([DCN_sptimes, output_sptimes3], colors=['b', 'r'], lineoffsets=[2, 1], linelengths=0.8)\n",
    "plt.yticks([1, 2], ['Output', 'Input'])\n",
    "plt.xlabel('Time (ms)')\n",
    "plt.title('Raster Plot of Input and Output Spike Times')\n",
    "plt.tight_layout()\n",
    "plt.savefig('/home/zhangyuhao/Desktop/Result/ET/Modeling/Raster.png', transparent=True, dpi=500)"
   ]
  },
  {
   "cell_type": "code",
   "execution_count": null,
   "id": "068e2dc6",
   "metadata": {},
   "outputs": [],
   "source": [
    "cutoff_distr = 100\n",
    "def plot_isi(isi,name):\n",
    "    isi = isi[(isi > 0.001) & (isi <= cutoff_distr)]\n",
    "    plt.figure(figsize=(10, 4))\n",
    "    plt.hist(isi, bins=100, color='dodgerblue', alpha=0.7)\n",
    "    plt.xlabel('Inter-spike Interval (ms)')\n",
    "    plt.ylabel('Counts')\n",
    "    plt.title(f'{name} ISI Distribution')\n",
    "    plt.grid(True)\n",
    "    plt.tight_layout()\n",
    "    plt.show()\n",
    "\n",
    "plot_isi(DCN_isi,'input',100)\n",
    "plot_isi(output_isi3,'output',100)"
   ]
  },
  {
   "cell_type": "markdown",
   "id": "3898e16b",
   "metadata": {},
   "source": [
    "## Problem of Phenomenological Synaptic Models"
   ]
  },
  {
   "cell_type": "markdown",
   "id": "9addd7f0",
   "metadata": {},
   "source": [
    "A significant limitation of the simple waveform description of synaptic conductance is that it does not capture the actual behavior seen at many synapses when trains of action potentials arrive. \n",
    "\n",
    "A new release of neurotransmitter soon after a previous release should not be expected to contribute as much to the postsynaptic conductance due to saturation of postsynaptic receptors by previously released transmitter and the fact that some receptors will already be open."
   ]
  },
  {
   "cell_type": "code",
   "execution_count": null,
   "id": "1ea986f1",
   "metadata": {
    "ExecuteTime": {
     "end_time": "2023-08-25T15:47:47.531229400Z",
     "start_time": "2023-08-25T15:47:47.507684700Z"
    }
   },
   "outputs": [],
   "source": [
    "class SimpleNet5(bp.DynSysGroup):\n",
    "  def __init__(self, freqs=10.):\n",
    "    super().__init__()\n",
    "    self.pre = bp.dyn.PoissonGroup(1, freqs=freqs)\n",
    "    self.post = bp.dyn.LifRef(1, V_rest=-60., V_th=-50., V_reset=-60., tau=20., tau_ref=5.,\n",
    "                              V_initializer=bp.init.Constant(-60.))\n",
    "    self.syn = DualExpSparseCOBA(self.pre, self.post, delay=None, prob=1., g_max=1., \n",
    "                                 tau_decay=5., tau_rise=1., E=0.)\n",
    "    \n",
    "  def update(self):\n",
    "    self.pre()\n",
    "    self.syn()\n",
    "    self.post()\n",
    "    return self.syn.proj.refs['syn'].g, self.post.V"
   ]
  },
  {
   "cell_type": "code",
   "execution_count": null,
   "id": "645c034414bc2093",
   "metadata": {
    "ExecuteTime": {
     "end_time": "2023-08-25T15:47:50.703697Z",
     "start_time": "2023-08-25T15:47:47.522115500Z"
    },
    "collapsed": false
   },
   "outputs": [],
   "source": [
    "def compare(freqs):\n",
    "  fig, _ = bp.visualize.get_figure(1, 1, 4.5, 6.)\n",
    "  for freq in freqs:\n",
    "    net = SimpleNet5(freqs=freq)\n",
    "    indices = np.arange(1000)  # 100 ms\n",
    "    conductances, potentials = bm.for_loop(net.step_run, indices, progress_bar=True)\n",
    "    plt.plot(indices * bm.get_dt(), conductances, label=f'{freq} Hz')\n",
    "  plt.legend()\n",
    "  plt.ylabel('g')\n",
    "  plt.show()\n",
    "\n",
    "\n",
    "compare([10., 100., 1000., 8000.])"
   ]
  }
 ],
 "metadata": {
  "kernelspec": {
   "display_name": "brainpy",
   "language": "python",
   "name": "python3"
  },
  "language_info": {
   "codemirror_mode": {
    "name": "ipython",
    "version": 3
   },
   "file_extension": ".py",
   "mimetype": "text/x-python",
   "name": "python",
   "nbconvert_exporter": "python",
   "pygments_lexer": "ipython3",
   "version": "3.11.11"
  },
  "latex_envs": {
   "LaTeX_envs_menu_present": true,
   "autoclose": false,
   "autocomplete": true,
   "bibliofile": "biblio.bib",
   "cite_by": "apalike",
   "current_citInitial": 1,
   "eqLabelWithNumbers": true,
   "eqNumInitial": 1,
   "hotkeys": {
    "equation": "Ctrl-E",
    "itemize": "Ctrl-I"
   },
   "labels_anchors": false,
   "latex_user_defs": false,
   "report_style_numbering": false,
   "user_envs_cfg": false
  },
  "toc": {
   "base_numbering": 1,
   "nav_menu": {},
   "number_sections": true,
   "sideBar": true,
   "skip_h1_title": false,
   "title_cell": "Table of Contents",
   "title_sidebar": "Contents",
   "toc_cell": false,
   "toc_position": {
    "height": "calc(100% - 180px)",
    "left": "10px",
    "top": "150px",
    "width": "243.07px"
   },
   "toc_section_display": true,
   "toc_window_display": true
  }
 },
 "nbformat": 4,
 "nbformat_minor": 5
}
