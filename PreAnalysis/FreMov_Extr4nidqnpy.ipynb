{
 "cells": [
  {
   "cell_type": "markdown",
   "metadata": {},
   "source": [
    "# Load Freely Moving Mice Motion Marker .npy file"
   ]
  },
  {
   "cell_type": "code",
   "execution_count": 10,
   "metadata": {},
   "outputs": [
    {
     "name": "stdout",
     "output_type": "stream",
     "text": [
      "[7.62939453 8.54492188 5.79833984 ... 5.95092773 6.25610352 5.34057617]\n",
      "最大值： 4999.847412109375\n",
      "最小值： -19.073486328125\n"
     ]
    }
   ],
   "source": [
    "import numpy as np\n",
    "\n",
    "mice = '20250310_VN_harmaline'\n",
    "path = f'/data1/zhangyuhao/xinchao_data/NP2/{mice}/Marker/'\n",
    "raw_data = np.load(path + 'motion_marker.npy')\n",
    "raw_data = raw_data[0]\n",
    "print(raw_data)\n",
    "print(\"最大值：\", np.max(raw_data))\n",
    "print(\"最小值：\", np.min(raw_data))\n"
   ]
  },
  {
   "cell_type": "markdown",
   "metadata": {},
   "source": [
    "# Dectect Motion times"
   ]
  },
  {
   "cell_type": "code",
   "execution_count": 12,
   "metadata": {},
   "outputs": [],
   "source": [
    "def detect_edges_with_binarization(signal, sampling_rate, threshold=2470):\n",
    "    \"\"\"\n",
    "    通过二值化检测信号的上升沿和下降沿时刻\n",
    "\n",
    "    参数:\n",
    "        signal: 输入的一维信号数组\n",
    "        sampling_rate: 采样率 (单位: Hz)\n",
    "        threshold: 二值化阈值，默认为低电平和高电平的中间值\n",
    "    \n",
    "    返回:\n",
    "        rise_times: 上升沿时刻数组 (单位: 秒)\n",
    "        fall_times: 下降沿时刻数组 (单位: 秒)\n",
    "    \"\"\"\n",
    "    # 步骤1: 二值化信号（低电平为0，高电平为1）\n",
    "    binary_signal = np.where(signal >= threshold, 1, 0)\n",
    "    \n",
    "    # 步骤2: 检测跳变（通过相邻元素的差值）\n",
    "    diff_binary = np.diff(binary_signal)\n",
    "    \n",
    "    # 步骤3: 提取跳变位置\n",
    "    # 上升沿：0→1跳变（差值为+1）\n",
    "    rise_indices = np.where(diff_binary == 1)[0]\n",
    "    # 下降沿：1→0跳变（差值为-1）\n",
    "    fall_indices = np.where(diff_binary == -1)[0]\n",
    "    \n",
    "    # 步骤4: 转换为时间（补偿diff导致的索引偏移）\n",
    "    rise_times = (rise_indices + 1) / sampling_rate\n",
    "    fall_times = (fall_indices + 1) / sampling_rate\n",
    "    \n",
    "    return rise_times, fall_times\n",
    "\n",
    "sampling_rate = 10593.2   # 采样率\n",
    "threshold = 2470          # 根据高低电平的中间值设定\n",
    "\n",
    "rise_times, fall_times = detect_edges_with_binarization(raw_data, sampling_rate, threshold)"
   ]
  },
  {
   "cell_type": "code",
   "execution_count": 13,
   "metadata": {},
   "outputs": [],
   "source": [
    "# 合并并排序\n",
    "all_edges = np.concatenate([rise_times, fall_times])\n",
    "ordered_edges = np.sort(all_edges)"
   ]
  },
  {
   "cell_type": "code",
   "execution_count": 14,
   "metadata": {},
   "outputs": [],
   "source": [
    "np.save(path + 'rise_times.npy', rise_times)\n",
    "np.save(path + 'fall_times.npy', fall_times)\n",
    "np.save(path + 'run_stop_times_evenRun_odd_Stop.npy', ordered_edges)"
   ]
  }
 ],
 "metadata": {
  "kernelspec": {
   "display_name": "ET",
   "language": "python",
   "name": "python3"
  },
  "language_info": {
   "codemirror_mode": {
    "name": "ipython",
    "version": 3
   },
   "file_extension": ".py",
   "mimetype": "text/x-python",
   "name": "python",
   "nbconvert_exporter": "python",
   "pygments_lexer": "ipython3",
   "version": "3.8.20"
  }
 },
 "nbformat": 4,
 "nbformat_minor": 2
}
