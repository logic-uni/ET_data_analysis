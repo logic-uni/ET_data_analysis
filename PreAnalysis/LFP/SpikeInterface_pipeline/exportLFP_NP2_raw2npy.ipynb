{
 "cells": [
  {
   "cell_type": "markdown",
   "metadata": {},
   "source": [
    "# Load LFP"
   ]
  },
  {
   "cell_type": "code",
   "execution_count": 15,
   "metadata": {},
   "outputs": [
    {
     "ename": "ValueError",
     "evalue": "Folder /data1/zhangyuhao/xinchao_data/NP2/test/control/Mice_1423_15/20250308_control_Mice_1423_15_VN_freely_moving/LFP does not exist",
     "output_type": "error",
     "traceback": [
      "\u001b[31m---------------------------------------------------------------------------\u001b[39m",
      "\u001b[31mValueError\u001b[39m                                Traceback (most recent call last)",
      "\u001b[36mCell\u001b[39m\u001b[36m \u001b[39m\u001b[32mIn[15]\u001b[39m\u001b[32m, line 22\u001b[39m\n\u001b[32m     19\u001b[39m base_folder = Path(base_path)\n\u001b[32m     20\u001b[39m save_folder = base_path + \u001b[33m\"\u001b[39m\u001b[33mLFP_npy/export\u001b[39m\u001b[33m\"\u001b[39m\n\u001b[32m---> \u001b[39m\u001b[32m22\u001b[39m recording_loaded = \u001b[43msi\u001b[49m\u001b[43m.\u001b[49m\u001b[43mload\u001b[49m\u001b[43m(\u001b[49m\u001b[43mbase_folder\u001b[49m\u001b[43m \u001b[49m\u001b[43m/\u001b[49m\u001b[43m \u001b[49m\u001b[33;43m'\u001b[39;49m\u001b[33;43mLFP\u001b[39;49m\u001b[33;43m'\u001b[39;49m\u001b[43m)\u001b[49m\n\u001b[32m     23\u001b[39m recording_loaded\n",
      "\u001b[36mFile \u001b[39m\u001b[32m~/miniconda3/envs/si/lib/python3.11/site-packages/spikeinterface/core/loading.py:126\u001b[39m, in \u001b[36mload\u001b[39m\u001b[34m(file_or_folder_or_dict, **kwargs)\u001b[39m\n\u001b[32m    122\u001b[39m \u001b[38;5;28;01melse\u001b[39;00m:\n\u001b[32m    123\u001b[39m     \u001b[38;5;66;03m# remote zarr can be\u001b[39;00m\n\u001b[32m    124\u001b[39m     \u001b[38;5;66;03m# Sorting Recording SortingAnalyzer Template\u001b[39;00m\n\u001b[32m    125\u001b[39m     url = file_or_folder_or_dict\n\u001b[32m--> \u001b[39m\u001b[32m126\u001b[39m     object_type = \u001b[43m_guess_object_from_zarr\u001b[49m\u001b[43m(\u001b[49m\u001b[43murl\u001b[49m\u001b[43m)\u001b[49m\n\u001b[32m    127\u001b[39m     loaded_object = _load_object_from_zarr(url, object_type, **kwargs)\n\u001b[32m    128\u001b[39m     \u001b[38;5;28;01mreturn\u001b[39;00m loaded_object\n",
      "\u001b[36mFile \u001b[39m\u001b[32m~/miniconda3/envs/si/lib/python3.11/site-packages/spikeinterface/core/loading.py:252\u001b[39m, in \u001b[36m_guess_object_from_zarr\u001b[39m\u001b[34m(zarr_folder)\u001b[39m\n\u001b[32m    248\u001b[39m \u001b[38;5;28;01mdef\u001b[39;00m\u001b[38;5;250m \u001b[39m\u001b[34m_guess_object_from_zarr\u001b[39m(zarr_folder):\n\u001b[32m    249\u001b[39m     \u001b[38;5;66;03m# here it can be a zarr folder for Recording|Sorting|SortingAnalyzer|Template\u001b[39;00m\n\u001b[32m    250\u001b[39m     \u001b[38;5;28;01mfrom\u001b[39;00m\u001b[38;5;250m \u001b[39m\u001b[34;01m.\u001b[39;00m\u001b[34;01mzarrextractors\u001b[39;00m\u001b[38;5;250m \u001b[39m\u001b[38;5;28;01mimport\u001b[39;00m super_zarr_open\n\u001b[32m--> \u001b[39m\u001b[32m252\u001b[39m     zarr_root = \u001b[43msuper_zarr_open\u001b[49m\u001b[43m(\u001b[49m\u001b[43mzarr_folder\u001b[49m\u001b[43m,\u001b[49m\u001b[43m \u001b[49m\u001b[43mmode\u001b[49m\u001b[43m=\u001b[49m\u001b[33;43m\"\u001b[39;49m\u001b[33;43mr\u001b[39;49m\u001b[33;43m\"\u001b[39;49m\u001b[43m)\u001b[49m\n\u001b[32m    254\u001b[39m     \u001b[38;5;66;03m# can be SortingAnalyzer\u001b[39;00m\n\u001b[32m    255\u001b[39m     spikeinterface_info = zarr_root.attrs.get(\u001b[33m\"\u001b[39m\u001b[33mspikeinterface_info\u001b[39m\u001b[33m\"\u001b[39m)\n",
      "\u001b[36mFile \u001b[39m\u001b[32m~/miniconda3/envs/si/lib/python3.11/site-packages/spikeinterface/core/zarrextractors.py:78\u001b[39m, in \u001b[36msuper_zarr_open\u001b[39m\u001b[34m(folder_path, mode, storage_options)\u001b[39m\n\u001b[32m     76\u001b[39m \u001b[38;5;28;01melse\u001b[39;00m:\n\u001b[32m     77\u001b[39m     \u001b[38;5;28;01mif\u001b[39;00m \u001b[38;5;129;01mnot\u001b[39;00m Path(folder_path).is_dir():\n\u001b[32m---> \u001b[39m\u001b[32m78\u001b[39m         \u001b[38;5;28;01mraise\u001b[39;00m \u001b[38;5;167;01mValueError\u001b[39;00m(\u001b[33mf\u001b[39m\u001b[33m\"\u001b[39m\u001b[33mFolder \u001b[39m\u001b[38;5;132;01m{\u001b[39;00mfolder_path\u001b[38;5;132;01m}\u001b[39;00m\u001b[33m does not exist\u001b[39m\u001b[33m\"\u001b[39m)\n\u001b[32m     79\u001b[39m     \u001b[38;5;28;01mfor\u001b[39;00m open_func \u001b[38;5;129;01min\u001b[39;00m open_funcs:\n\u001b[32m     80\u001b[39m         \u001b[38;5;28;01mtry\u001b[39;00m:\n",
      "\u001b[31mValueError\u001b[39m: Folder /data1/zhangyuhao/xinchao_data/NP2/test/control/Mice_1423_15/20250308_control_Mice_1423_15_VN_freely_moving/LFP does not exist"
     ]
    }
   ],
   "source": [
    "import spikeinterface.full as si\n",
    "import spikeinterface.widgets as sw\n",
    "import numpy as np\n",
    "import matplotlib.pyplot as plt\n",
    "from pathlib import Path\n",
    "from scipy import signal\n",
    "from scipy.fft import fft, fftfreq\n",
    "from scipy.signal import stft\n",
    "import pywt\n",
    "import os\n",
    "from tqdm import tqdm\n",
    "\n",
    "'''\n",
    "mice = '20250310_VN_tremor'# 20250310_VN_control 20250310_VN_harmaline  20250310_VN_tremor\n",
    "base_folder = Path(f'/data1/zhangyuhao/xinchao_data/NP2/{mice}')\n",
    "save_folder = f\"/data1/zhangyuhao/xinchao_data/NP2/{mice}/LFP_npy/{mice}\"\n",
    "'''\n",
    "base_path = \"/data1/zhangyuhao/xinchao_data/NP2/test/control/Mice_1423_15/20250308_control_Mice_1423_15_VN_freely_moving/\"\n",
    "base_folder = Path(base_path)\n",
    "save_folder = base_path + \"LFP_npy/export\"\n",
    "\n",
    "recording_loaded = si.load(base_folder / 'LFP')\n",
    "recording_loaded"
   ]
  },
  {
   "cell_type": "code",
   "execution_count": 13,
   "metadata": {},
   "outputs": [],
   "source": [
    "#print(f'Loaded channels ids: {recording_loaded.get_channel_ids()}')\n",
    "#print(f'Channel groups after loading: {recording_loaded.get_channel_groups()}')\n",
    "\n",
    "traces = recording_loaded.get_traces(segment_index=0)\n",
    "traces = traces.T\n",
    "traces\n",
    "np.save(save_folder, traces)"
   ]
  }
 ],
 "metadata": {
  "kernelspec": {
   "display_name": "si",
   "language": "python",
   "name": "python3"
  },
  "language_info": {
   "codemirror_mode": {
    "name": "ipython",
    "version": 3
   },
   "file_extension": ".py",
   "mimetype": "text/x-python",
   "name": "python",
   "nbconvert_exporter": "python",
   "pygments_lexer": "ipython3",
   "version": "3.11.11"
  }
 },
 "nbformat": 4,
 "nbformat_minor": 2
}
