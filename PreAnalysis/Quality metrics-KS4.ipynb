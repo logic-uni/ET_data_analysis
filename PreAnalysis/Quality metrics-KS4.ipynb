{
 "cells": [
  {
   "cell_type": "code",
   "execution_count": 71,
   "metadata": {
    "ExecuteTime": {
     "end_time": "2025-03-28T21:42:12.116158Z",
     "start_time": "2025-03-28T21:42:11.701252Z"
    },
    "collapsed": false
   },
   "outputs": [],
   "source": [
    "%reset -f"
   ]
  },
  {
   "cell_type": "markdown",
   "metadata": {
    "collapsed": false
   },
   "source": []
  },
  {
   "cell_type": "code",
   "execution_count": 1,
   "metadata": {
    "ExecuteTime": {
     "end_time": "2025-03-28T21:42:12.132104Z",
     "start_time": "2025-03-28T21:42:12.117155Z"
    },
    "collapsed": false
   },
   "outputs": [
    {
     "name": "stderr",
     "output_type": "stream",
     "text": [
      "c:\\ProgramData\\anaconda3\\envs\\Spikeinterface\\Lib\\site-packages\\tqdm\\auto.py:21: TqdmWarning: IProgress not found. Please update jupyter and ipywidgets. See https://ipywidgets.readthedocs.io/en/stable/user_install.html\n",
      "  from .autonotebook import tqdm as notebook_tqdm\n"
     ]
    },
    {
     "ename": "ModuleNotFoundError",
     "evalue": "No module named 'tools'",
     "output_type": "error",
     "traceback": [
      "\u001b[31m---------------------------------------------------------------------------\u001b[39m",
      "\u001b[31mModuleNotFoundError\u001b[39m                       Traceback (most recent call last)",
      "\u001b[36mCell\u001b[39m\u001b[36m \u001b[39m\u001b[32mIn[1]\u001b[39m\u001b[32m, line 7\u001b[39m\n\u001b[32m      5\u001b[39m \u001b[38;5;28;01mimport\u001b[39;00m\u001b[38;5;250m \u001b[39m\u001b[34;01mmatplotlib\u001b[39;00m\u001b[34;01m.\u001b[39;00m\u001b[34;01mpyplot\u001b[39;00m\u001b[38;5;250m \u001b[39m\u001b[38;5;28;01mas\u001b[39;00m\u001b[38;5;250m \u001b[39m\u001b[34;01mplt\u001b[39;00m\n\u001b[32m      6\u001b[39m \u001b[38;5;28;01mfrom\u001b[39;00m\u001b[38;5;250m \u001b[39m\u001b[34;01mpathlib\u001b[39;00m\u001b[38;5;250m \u001b[39m\u001b[38;5;28;01mimport\u001b[39;00m Path\n\u001b[32m----> \u001b[39m\u001b[32m7\u001b[39m \u001b[38;5;28;01mfrom\u001b[39;00m\u001b[38;5;250m \u001b[39m\u001b[34;01mtools\u001b[39;00m\u001b[38;5;250m \u001b[39m\u001b[38;5;28;01mimport\u001b[39;00m *\n\u001b[32m      8\u001b[39m \u001b[38;5;28;01mimport\u001b[39;00m\u001b[38;5;250m \u001b[39m\u001b[34;01mpandas\u001b[39;00m\u001b[38;5;250m \u001b[39m\u001b[38;5;28;01mas\u001b[39;00m\u001b[38;5;250m \u001b[39m\u001b[34;01mpd\u001b[39;00m\n\u001b[32m      9\u001b[39m \u001b[38;5;28;01mimport\u001b[39;00m\u001b[38;5;250m \u001b[39m\u001b[34;01mos\u001b[39;00m\n",
      "\u001b[31mModuleNotFoundError\u001b[39m: No module named 'tools'"
     ]
    }
   ],
   "source": [
    "import spikeinterface.full as si\n",
    "import spikeinterface as s\n",
    "import spikeinterface.qualitymetrics as sqm\n",
    "from spikeinterface.postprocessing import compute_correlograms\n",
    "import matplotlib.pyplot as plt\n",
    "from pathlib import Path\n",
    "from tools import *\n",
    "import pandas as pd\n",
    "import os\n",
    "import sys\n",
    "import numpy as np\n",
    "import scipy.stats\n",
    "import spikeinterface.core as sc\n",
    "import spikeinterface.extractors as se\n",
    "from spikeinterface.postprocessing import compute_principal_components\n",
    "from spikeinterface.qualitymetrics import (\n",
    "    compute_snrs,\n",
    "    compute_firing_rates,\n",
    "    compute_isi_violations,\n",
    "    calculate_pc_metrics,\n",
    "    compute_quality_metrics,\n",
    ")"
   ]
  },
  {
   "cell_type": "markdown",
   "metadata": {
    "collapsed": false
   },
   "source": [
    "## Load recording and sorting data"
   ]
  },
  {
   "cell_type": "code",
   "execution_count": 73,
   "metadata": {
    "ExecuteTime": {
     "end_time": "2025-03-28T21:42:12.192766Z",
     "start_time": "2025-03-28T21:42:12.133101Z"
    },
    "collapsed": false
   },
   "outputs": [
    {
     "name": "stdout",
     "output_type": "stream",
     "text": [
      "找到 kilosort4 文件夹，路径为: H:\\Neuropixels_computer_data\\Neuropixels_data_Third_batch\\Ninth_batch_NP_1\\20240925-cage1-4\\cage1-4-R-DCN-1\\cage1-4-R-DCN-1_g1\\cage1-4-R-DCN-1_g1_imec1\\kilosort4\n"
     ]
    }
   ],
   "source": [
    "base_folder = r'H:\\Neuropixels_computer_data\\Neuropixels_data_Third_batch\\Ninth_batch_NP_1\\20240925-cage1-4\\cage1-4-R-DCN-1\\cage1-4-R-DCN-1_g1\\cage1-4-R-DCN-1_g1_imec1'\n",
    "\n",
    "# 初始化 kilosort4_folder 为 None\n",
    "kilosort4_folder = None\n",
    "\n",
    "# 遍历 base_folder 下的所有子文件夹\n",
    "for root, dirs, files in os.walk(base_folder):\n",
    "    for dir_name in dirs:\n",
    "        if dir_name == 'kilosort4':\n",
    "            # 找到 kilosort4 文件夹，构建完整路径\n",
    "            kilosort4_folder = os.path.join(root, dir_name)\n",
    "            break\n",
    "    if kilosort4_folder:\n",
    "        break\n",
    "\n",
    "# 检查是否找到了 kilosort4 文件夹\n",
    "if kilosort4_folder:\n",
    "    print(f\"找到 kilosort4 文件夹，路径为: {kilosort4_folder}\")\n",
    "else:\n",
    "    print(\"未在 base_folder 下找到 kilosort4 文件夹。\")\n"
   ]
  },
  {
   "cell_type": "code",
   "execution_count": 74,
   "metadata": {
    "ExecuteTime": {
     "end_time": "2025-03-28T21:42:12.247166Z",
     "start_time": "2025-03-28T21:42:12.148778Z"
    },
    "collapsed": false
   },
   "outputs": [],
   "source": [
    "recording = si.read_spikeglx(base_folder, stream_name='imec0.ap', load_sync_channel=False)"
   ]
  },
  {
   "cell_type": "code",
   "execution_count": 75,
   "metadata": {
    "ExecuteTime": {
     "end_time": "2025-03-28T21:42:12.863395Z",
     "start_time": "2025-03-28T21:42:12.224846Z"
    },
    "collapsed": false
   },
   "outputs": [
    {
     "name": "stdout",
     "output_type": "stream",
     "text": [
      "\u001b[1;34mSorting information\u001b[0m KiloSortSortingExtractor: 268 units - 1 segments - 30.0kHz\n",
      "\u001b[1;32mUnit ids\u001b[0m [  0   1   2   3   4   5   6   7   8   9  10  11  12  13  14  15  16  17\n",
      "  18  19  20  21  22  23  24  25  26  27  28  29  30  31  32  33  34  35\n",
      "  36  37  38  39  40  41  42  43  44  45  46  47  48  49  50  51  52  53\n",
      "  54  55  56  57  58  59  60  61  62  63  64  65  66  67  68  69  70  71\n",
      "  72  73  74  75  76  77  78  79  80  81  82  83  84  85  86  87  88  89\n",
      "  90  91  92  93  94  95  96  97  98  99 100 101 102 103 104 105 106 107\n",
      " 108 109 110 111 112 113 114 115 116 117 118 119 120 121 122 123 124 125\n",
      " 126 127 128 129 130 131 132 133 134 135 136 137 138 139 140 141 142 143\n",
      " 144 145 146 147 148 149 150 151 152 153 154 155 156 157 158 159 160 161\n",
      " 162 163 164 165 166 167 168 169 170 171 172 173 174 175 176 177 178 179\n",
      " 180 181 182 183 184 185 186 187 188 189 190 191 192 193 194 195 196 197\n",
      " 198 199 200 201 202 203 204 205 206 207 208 209 210 211 212 213 214 215\n",
      " 216 217 218 219 220 221 222 223 224 225 226 227 228 229 230 231 232 233\n",
      " 234 235 236 237 238 239 240 241 242 243 244 245 246 247 248 249 250 251\n",
      " 252 253 254 255 256 257 258 259 260 261 262 263 264 265 266 267]\n"
     ]
    }
   ],
   "source": [
    "sorting_info = se.KiloSortSortingExtractor(kilosort4_folder, keep_good_only=False, remove_empty_units=False)\n",
    "printb('Sorting information',sorting_info)\n",
    "\n",
    "sampling_rate = recording.get_sampling_frequency()\n",
    "\n",
    "unit_ids = sorting_info.get_unit_ids()\n",
    "printg('Unit ids',unit_ids)"
   ]
  },
  {
   "cell_type": "code",
   "execution_count": null,
   "metadata": {
    "ExecuteTime": {
     "end_time": "2025-03-28T21:20:05.883281Z",
     "start_time": "2025-03-28T21:17:32.006506Z"
    },
    "collapsed": false,
    "pycharm": {
     "is_executing": true
    }
   },
   "outputs": [
    {
     "data": {
      "application/vnd.jupyter.widget-view+json": {
       "model_id": "c536806419f54f9cba0bd0ca94e9636b",
       "version_major": 2,
       "version_minor": 0
      },
      "text/plain": [
       "estimate_sparsity (no parallelization):   0%|          | 0/3118 [00:00<?, ?it/s]"
      ]
     },
     "metadata": {},
     "output_type": "display_data"
    }
   ],
   "source": [
    "analyzer = si.create_sorting_analyzer(sorting=sorting_info, recording=recording, format=\"memory\")\n",
    "print(analyzer)"
   ]
  },
  {
   "cell_type": "code",
   "execution_count": null,
   "metadata": {
    "ExecuteTime": {
     "end_time": "2025-03-28T21:23:45.580613Z",
     "start_time": "2025-03-28T21:20:05.883281Z"
    },
    "collapsed": false,
    "pycharm": {
     "is_executing": true
    }
   },
   "outputs": [],
   "source": [
    "\n",
    "if '__spec__' not in sys.modules['__main__'].__dict__:\n",
    "    sys.modules['__main__'].__spec__ = None\n",
    "\n",
    "    analyzer.compute(\"random_spikes\", method=\"uniform\", max_spikes_per_unit=600, seed=2205)\n",
    "    analyzer.compute(\"waveforms\", ms_before=1.3, ms_after=2.6, n_jobs=2)\n",
    "    analyzer.compute(\"templates\", operators=[\"average\", \"median\", \"std\"])\n",
    "    analyzer.compute(\"noise_levels\")\n",
    "\n",
    "print(analyzer)"
   ]
  },
  {
   "cell_type": "code",
   "execution_count": null,
   "metadata": {
    "ExecuteTime": {
     "end_time": "2025-03-28T21:24:50.648560Z",
     "start_time": "2025-03-28T21:23:45.578619Z"
    },
    "collapsed": false,
    "pycharm": {
     "is_executing": true
    }
   },
   "outputs": [],
   "source": [
    "firing_rates = compute_firing_rates(analyzer)\n",
    "print(firing_rates)\n",
    "isi_violation_ratio, isi_violations_count = compute_isi_violations(analyzer)\n",
    "print(isi_violation_ratio)\n",
    "snrs = compute_snrs(analyzer)\n",
    "print(snrs)\n"
   ]
  },
  {
   "cell_type": "markdown",
   "metadata": {
    "collapsed": false
   },
   "source": [
    "## Save quality metrics"
   ]
  },
  {
   "cell_type": "code",
   "execution_count": null,
   "metadata": {
    "ExecuteTime": {
     "end_time": "2025-03-28T21:24:53.226816Z",
     "start_time": "2025-03-28T21:24:50.649548Z"
    },
    "collapsed": false,
    "pycharm": {
     "is_executing": true
    }
   },
   "outputs": [],
   "source": [
    "# qc_metric_names=['firing_rate', 'presence_ratio', 'snr', 'isi_violation', 'rp_violation', 'amplitude_cutoff']\n",
    "qc_metric_names=['firing_rate', 'presence_ratio', 'snr', 'isi_violation', 'amplitude_cutoff']\n",
    "metrics = compute_quality_metrics(analyzer, metric_names=qc_metric_names)\n",
    "metrics_df = pd.DataFrame(metrics)\n",
    "\n",
    "# 添加 neuro_id 列\n",
    "metrics_df['neuro_id'] = unit_ids\n",
    "cols = ['neuro_id'] + [col for col in metrics_df.columns if col != 'neuro_id']\n",
    "metrics_df = metrics_df[cols]\n",
    "metrics_df.to_csv(os.path.join(base_folder,'quality_metrics_test.csv'), index=False)\n",
    "\n",
    "printg('Metrics saved to' , base_folder)\n",
    "print(metrics)"
   ]
  },
  {
   "cell_type": "markdown",
   "metadata": {
    "collapsed": false
   },
   "source": [
    "## Extractor good units"
   ]
  },
  {
   "cell_type": "code",
   "execution_count": null,
   "metadata": {
    "ExecuteTime": {
     "end_time": "2025-03-28T21:24:53.273367Z",
     "start_time": "2025-03-28T21:24:53.227813Z"
    },
    "collapsed": false,
    "pycharm": {
     "is_executing": true
    }
   },
   "outputs": [],
   "source": [
    "isi_th = 0.1\n",
    "snr_th = 2"
   ]
  },
  {
   "cell_type": "code",
   "execution_count": null,
   "metadata": {
    "ExecuteTime": {
     "end_time": "2025-03-28T21:24:53.290310Z",
     "start_time": "2025-03-28T21:24:53.242962Z"
    },
    "collapsed": false,
    "pycharm": {
     "is_executing": true
    }
   },
   "outputs": [],
   "source": [
    "qc_file_path = os.path.join(base_folder, 'quality_metrics.csv')\n",
    "\n",
    "try:\n",
    "    # 读取 CSV 文件\n",
    "    metrics_df = pd.read_csv(qc_file_path)\n",
    "\n",
    "    # 打印读取的数据\n",
    "    print(\"读取到的数据：\")\n",
    "    print(metrics_df)\n",
    "\n",
    "    # 如果你需要将数据转换为字典格式，类似于之前打印的 metrics 变量\n",
    "    metrics = metrics_df.to_dict(orient='list')\n",
    "    print(\"转换为字典格式的数据：\")\n",
    "    print(metrics)\n",
    "except FileNotFoundError:\n",
    "    print(f\"未找到文件：{qc_file_path}，请检查文件路径是否正确。\")"
   ]
  },
  {
   "cell_type": "code",
   "execution_count": null,
   "metadata": {
    "ExecuteTime": {
     "end_time": "2025-03-28T21:24:53.290310Z",
     "start_time": "2025-03-28T21:24:53.260410Z"
    },
    "collapsed": false,
    "pycharm": {
     "is_executing": true
    }
   },
   "outputs": [],
   "source": [
    "# 筛选满足条件的神经元\n",
    "filtered_neurons = metrics_df[\n",
    "    (metrics_df['isi_violations_ratio'] < isi_th) & (metrics_df['snr'] > snr_th)\n",
    "]\n",
    "\n",
    "# 提取筛选后的神经元 ID\n",
    "filtered_neuro_ids = filtered_neurons['neuro_id'].tolist()\n",
    "\n",
    "# 打印结果\n",
    "print(\"满足条件的神经元 ID：\")\n",
    "print(filtered_neuro_ids)\n",
    "printg(\"满足条件的神经元数量：\", len(filtered_neuro_ids))\n",
    "\n",
    "# 如果需要保存筛选后的结果到新的 CSV 文件\n",
    "filtered_neurons.to_csv(os.path.join(base_folder,'filtered_quality_metrics.csv'),index=False)\n",
    "print(\"筛选后的数据已保存到 'filtered_quality_metrics.csv'\")"
   ]
  },
  {
   "cell_type": "markdown",
   "metadata": {
    "collapsed": false
   },
   "source": []
  },
  {
   "cell_type": "markdown",
   "metadata": {
    "collapsed": false
   },
   "source": [
    "## Manual calculate sis_violations\n",
    "ref  [UMS] https://github.com/danamics/UMS2K/blob/master/quality_measures/rpv_contamination.m."
   ]
  },
  {
   "cell_type": "markdown",
   "metadata": {
    "collapsed": false
   },
   "source": [
    "In this method the number of spikes whose refractory period are violated, denoted \\(n_v\\), is used.\n",
    "Here, the refactory period \\(t_r\\) is adjusted to take account of the data recording system’s minimum possible refactory period. E.g. if a system has a sampling rate of \\(f \\text{ Hz}\\), the closest that two spikes from the same unit can possibly be is \\(1/f \\, \\text{s}\\). Hence the refactory period \\(t_r\\) is the expected biological threshold minus this minimum possible threshold.\n",
    "\n",
    "The contamination rate is calculated to be\n",
    "\n",
    "[C = \\frac{ n_v T }{ 2 N^2 t_r }\\]"
   ]
  },
  {
   "cell_type": "code",
   "execution_count": null,
   "metadata": {
    "ExecuteTime": {
     "end_time": "2025-03-28T21:24:53.429837Z",
     "start_time": "2025-03-28T21:24:53.275360Z"
    },
    "collapsed": false,
    "pycharm": {
     "is_executing": true
    }
   },
   "outputs": [],
   "source": [
    "\n",
    "m_quality_metrics = []\n",
    "m_quality_metrics.append(['neuro_ids', 'isi_violation','snr'])\n",
    "\n",
    "\n",
    "biological_t_r = 0.0015    #### 生物学的限制，IBL和spikeinterface使用1.5ms\n",
    "min_possible_t_r = 0       #### 系统限制采样，IBL和spikeinterface使用0ms，其实应该是1/sampling_rate\n",
    "t_r = biological_t_r - min_possible_t_r  # 调整后的不应期\n",
    "\n",
    "for unit_id in unit_ids:\n",
    "    spike_train = sorting_info.get_unit_spike_train(unit_id)\n",
    "\n",
    "    spike_train_s = spike_train / sampling_rate\n",
    "    n_v = np.sum(np.diff(spike_train_s) < t_r)\n",
    "\n",
    "    T = spike_train_s[-1] - spike_train_s[0]\n",
    "    N = len(spike_train_s)\n",
    "    C = (n_v * T) / (2 * N**2 * t_r)\n",
    "\n",
    "    m_quality_metrics.append([unit_id, C])\n",
    "    print(f\"Unit {unit_id}: ISI violations contamination rate = {C:.4f}\")\n",
    "# print(m_quality_metrics)"
   ]
  },
  {
   "cell_type": "markdown",
   "metadata": {
    "collapsed": false
   },
   "source": [
    "## Manual calculate Signal-to-noise ratio\n",
    "ref https://allensdk.readthedocs.io/en/latest/_static/examples/nb/ecephys_quality_metrics.html#SNR\n",
    "ref Quantitative assessment of extracellular multichannel recording quality using measures of cluster separation. Society of Neuroscience Abstract. 2005.\n",
    "ref Methods for neuronal recording in conscious animals. IBRO Handbook Series. 1984.\n",
    "\n",
    "Calculation¶\n",
    "Aμs: maximum amplitude of the mean spike waverform (on the best channel).\n",
    "бb: standard deviation of the background noise on the same channel (usually computed via the median absolute deviation).\n",
    "SNR = Aμs/бb"
   ]
  }
 ],
 "metadata": {
  "kernelspec": {
   "display_name": "Spikeinterface",
   "language": "python",
   "name": "python3"
  },
  "language_info": {
   "codemirror_mode": {
    "name": "ipython",
    "version": 3
   },
   "file_extension": ".py",
   "mimetype": "text/x-python",
   "name": "python",
   "nbconvert_exporter": "python",
   "pygments_lexer": "ipython3",
   "version": "3.11.11"
  }
 },
 "nbformat": 4,
 "nbformat_minor": 0
}
